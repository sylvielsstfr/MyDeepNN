{
 "cells": [
  {
   "cell_type": "markdown",
   "id": "97c67adf-4c11-4a58-a8cf-60bea4bd150f",
   "metadata": {},
   "source": [
    "# Read H5 file"
   ]
  },
  {
   "cell_type": "markdown",
   "id": "8a6845e8-7bc8-4cac-8bb0-911622680c2b",
   "metadata": {},
   "source": [
    "Read hdf5 file produced by CheckForSpectraction notebook\n",
    "\n",
    "work with Weakly_2023_11\n",
    "- use jupyter kernel LSST\n",
    "- author : Sylvie Dagoret-Campagne\n",
    "- affiliation : IJCLab\n",
    "- creation date : 2023/03/31\n",
    "- last update : 2023/04/01"
   ]
  },
  {
   "cell_type": "code",
   "execution_count": 1,
   "id": "a088276b-550f-4b3d-8f54-65741072b965",
   "metadata": {
    "tags": []
   },
   "outputs": [],
   "source": [
    "import h5py"
   ]
  },
  {
   "cell_type": "code",
   "execution_count": 2,
   "id": "4f0acd15-d669-462b-95fc-5ebf8caa5a36",
   "metadata": {
    "tags": []
   },
   "outputs": [],
   "source": [
    "import numpy as np\n",
    "import matplotlib.pyplot as plt\n",
    "%matplotlib inline\n",
    "from mpl_toolkits.axes_grid1 import make_axes_locatable\n",
    "from matplotlib.colors import LogNorm\n",
    "import pandas as pd"
   ]
  },
  {
   "cell_type": "code",
   "execution_count": 3,
   "id": "a986036a-9690-4517-9fb8-4159802ebb8e",
   "metadata": {
    "tags": []
   },
   "outputs": [],
   "source": [
    "import matplotlib.ticker                         # here's where the formatter is\n",
    "import os\n",
    "import re\n",
    "import pandas as pd\n",
    "\n",
    "plt.rcParams[\"figure.figsize\"] = (14,6)\n",
    "plt.rcParams[\"axes.labelsize\"] = 'xx-large'\n",
    "plt.rcParams['axes.titlesize'] = 'xx-large'\n",
    "plt.rcParams['xtick.labelsize']= 'xx-large'\n",
    "plt.rcParams['ytick.labelsize']= 'xx-large'"
   ]
  },
  {
   "cell_type": "code",
   "execution_count": 4,
   "id": "6e5c6311-2623-4a88-a17d-142786118b33",
   "metadata": {
    "tags": []
   },
   "outputs": [],
   "source": [
    "from astropy.time import Time\n",
    "import astropy.units as u"
   ]
  },
  {
   "cell_type": "code",
   "execution_count": 5,
   "id": "a107e47f-9658-4a9d-a2eb-af3831e15de1",
   "metadata": {
    "tags": []
   },
   "outputs": [
    {
     "name": "stdout",
     "output_type": "stream",
     "text": [
      "test_dc2_training_9816.hdf5   training_100gal.hdf5\n",
      "test_dc2_validation_9816.hdf5 validation_10gal.hdf5\n"
     ]
    }
   ],
   "source": [
    "! ls ../data"
   ]
  },
  {
   "cell_type": "code",
   "execution_count": 7,
   "id": "3aee8264-beb7-49ba-a351-94dd90cf880d",
   "metadata": {
    "tags": []
   },
   "outputs": [],
   "source": [
    "input_file_h5 = \"../data/test_dc2_training_9816.hdf5\""
   ]
  },
  {
   "cell_type": "code",
   "execution_count": 8,
   "id": "921512bf-9ebf-4199-b958-c2432331a206",
   "metadata": {
    "tags": []
   },
   "outputs": [
    {
     "data": {
      "text/plain": [
       "<KeysViewHDF5 ['photometry']>"
      ]
     },
     "execution_count": 8,
     "metadata": {},
     "output_type": "execute_result"
    }
   ],
   "source": [
    "hf =  h5py.File(input_file_h5, 'r') \n",
    "hf.keys()"
   ]
  },
  {
   "cell_type": "code",
   "execution_count": 9,
   "id": "92cf5d71-324b-4092-9bc0-e4767c444355",
   "metadata": {
    "tags": []
   },
   "outputs": [
    {
     "name": "stdout",
     "output_type": "stream",
     "text": [
      "photometry\n"
     ]
    }
   ],
   "source": [
    "key_sel = list(hf.keys())[0]\n",
    "print(key_sel)"
   ]
  },
  {
   "cell_type": "code",
   "execution_count": 11,
   "id": "02f81b5d-7c84-4450-91c9-b3e64268f461",
   "metadata": {
    "tags": []
   },
   "outputs": [],
   "source": [
    "group = hf.get(key_sel)"
   ]
  },
  {
   "cell_type": "code",
   "execution_count": 12,
   "id": "0dba751e-bf45-459d-a312-2e0bdf231ddf",
   "metadata": {
    "tags": []
   },
   "outputs": [],
   "source": [
    "all_subgroup_keys = []\n",
    "for k in group.attrs.keys():\n",
    "    print('{} => {}'.format(k, group.attrs[k]))\n",
    "    all_subgroup_keys.append(group.attrs[k])  "
   ]
  },
  {
   "cell_type": "code",
   "execution_count": 13,
   "id": "4372127f-6f89-45cc-80f5-53c236c1dd38",
   "metadata": {
    "tags": []
   },
   "outputs": [
    {
     "data": {
      "text/plain": [
       "[('id', <HDF5 dataset \"id\": shape (10225,), type \"<i8\">),\n",
       " ('mag_err_g_lsst',\n",
       "  <HDF5 dataset \"mag_err_g_lsst\": shape (10225,), type \"<f4\">),\n",
       " ('mag_err_i_lsst',\n",
       "  <HDF5 dataset \"mag_err_i_lsst\": shape (10225,), type \"<f4\">),\n",
       " ('mag_err_r_lsst',\n",
       "  <HDF5 dataset \"mag_err_r_lsst\": shape (10225,), type \"<f4\">),\n",
       " ('mag_err_u_lsst',\n",
       "  <HDF5 dataset \"mag_err_u_lsst\": shape (10225,), type \"<f4\">),\n",
       " ('mag_err_y_lsst',\n",
       "  <HDF5 dataset \"mag_err_y_lsst\": shape (10225,), type \"<f4\">),\n",
       " ('mag_err_z_lsst',\n",
       "  <HDF5 dataset \"mag_err_z_lsst\": shape (10225,), type \"<f4\">),\n",
       " ('mag_g_lsst', <HDF5 dataset \"mag_g_lsst\": shape (10225,), type \"<f4\">),\n",
       " ('mag_i_lsst', <HDF5 dataset \"mag_i_lsst\": shape (10225,), type \"<f4\">),\n",
       " ('mag_r_lsst', <HDF5 dataset \"mag_r_lsst\": shape (10225,), type \"<f4\">),\n",
       " ('mag_u_lsst', <HDF5 dataset \"mag_u_lsst\": shape (10225,), type \"<f4\">),\n",
       " ('mag_y_lsst', <HDF5 dataset \"mag_y_lsst\": shape (10225,), type \"<f4\">),\n",
       " ('mag_z_lsst', <HDF5 dataset \"mag_z_lsst\": shape (10225,), type \"<f4\">),\n",
       " ('redshift', <HDF5 dataset \"redshift\": shape (10225,), type \"<f8\">)]"
      ]
     },
     "execution_count": 13,
     "metadata": {},
     "output_type": "execute_result"
    }
   ],
   "source": [
    "list(group.items())"
   ]
  },
  {
   "cell_type": "code",
   "execution_count": 15,
   "id": "6ed9b6a5-3dee-477a-8aea-2cc364881c68",
   "metadata": {
    "tags": []
   },
   "outputs": [],
   "source": [
    "mag_err_u_lsst = np.array(group.get(\"mag_err_u_lsst\"))\n",
    "mag_err_g_lsst = np.array(group.get(\"mag_err_g_lsst\"))\n",
    "mag_err_r_lsst = np.array(group.get(\"mag_err_r_lsst\"))\n",
    "mag_err_i_lsst = np.array(group.get(\"mag_err_i_lsst\"))\n",
    "mag_err_z_lsst = np.array(group.get(\"mag_err_z_lsst\"))\n",
    "mag_err_y_lsst = np.array(group.get(\"mag_err_y_lsst\"))\n",
    "mag_u_lsst =  np.array(group.get(\"mag_u_lsst\"))\n",
    "mag_g_lsst =  np.array(group.get(\"mag_g_lsst\"))\n",
    "mag_r_lsst =  np.array(group.get(\"mag_r_lsst\"))\n",
    "mag_i_lsst =  np.array(group.get(\"mag_i_lsst\"))\n",
    "mag_z_lsst =  np.array(group.get(\"mag_z_lsst\"))\n",
    "mag_y_lsst =  np.array(group.get(\"mag_y_lsst\"))"
   ]
  },
  {
   "cell_type": "code",
   "execution_count": 23,
   "id": "3acc37b1-d0b7-406e-8a1b-c793473284e8",
   "metadata": {
    "tags": []
   },
   "outputs": [
    {
     "data": {
      "text/plain": [
       "array([18.040369, 21.61559 , 21.851952, ..., 25.185795, 26.682219,\n",
       "       26.926563], dtype=float32)"
      ]
     },
     "execution_count": 23,
     "metadata": {},
     "output_type": "execute_result"
    }
   ],
   "source": [
    "mag_u_lsst.T"
   ]
  },
  {
   "cell_type": "code",
   "execution_count": 24,
   "id": "dfa4573a-8d7e-4575-be8b-2f4a2bad1007",
   "metadata": {
    "tags": []
   },
   "outputs": [],
   "source": [
    "X = np.concatenate((mag_u_lsst.T, \n",
    "                    mag_g_lsst.T, \n",
    "                    mag_r_lsst.T, \n",
    "                    mag_i_lsst.T, \n",
    "                    mag_z_lsst.T,\n",
    "                    mag_y_lsst.T),axis=0) "
   ]
  },
  {
   "cell_type": "code",
   "execution_count": 25,
   "id": "a39c8c85-5300-4541-9a02-f11bcdc2a8a5",
   "metadata": {
    "tags": []
   },
   "outputs": [
    {
     "data": {
      "text/plain": [
       "(61350,)"
      ]
     },
     "execution_count": 25,
     "metadata": {},
     "output_type": "execute_result"
    }
   ],
   "source": [
    "X.shape"
   ]
  },
  {
   "cell_type": "code",
   "execution_count": 17,
   "id": "5476e277-8d74-45b9-8685-63f8ffdd85fc",
   "metadata": {
    "execution": {
     "iopub.execute_input": "2023-03-31T15:16:48.440121Z",
     "iopub.status.busy": "2023-03-31T15:16:48.439966Z",
     "iopub.status.idle": "2023-03-31T15:16:48.442770Z",
     "shell.execute_reply": "2023-03-31T15:16:48.442410Z",
     "shell.execute_reply.started": "2023-03-31T15:16:48.440106Z"
    },
    "tags": []
   },
   "outputs": [],
   "source": [
    "hf.close() "
   ]
  },
  {
   "cell_type": "code",
   "execution_count": null,
   "id": "8def8de8-9d43-4508-96c9-d307cd9a36d3",
   "metadata": {},
   "outputs": [],
   "source": []
  }
 ],
 "metadata": {
  "kernelspec": {
   "display_name": "python3_base",
   "language": "python",
   "name": "python_3_base"
  },
  "language_info": {
   "codemirror_mode": {
    "name": "ipython",
    "version": 3
   },
   "file_extension": ".py",
   "mimetype": "text/x-python",
   "name": "python",
   "nbconvert_exporter": "python",
   "pygments_lexer": "ipython3",
   "version": "3.9.15"
  }
 },
 "nbformat": 4,
 "nbformat_minor": 5
}
