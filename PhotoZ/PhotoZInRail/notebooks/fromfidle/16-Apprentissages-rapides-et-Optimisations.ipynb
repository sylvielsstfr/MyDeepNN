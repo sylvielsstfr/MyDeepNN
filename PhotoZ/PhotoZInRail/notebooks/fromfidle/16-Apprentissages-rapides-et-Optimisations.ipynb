{
 "cells": [
  {
   "cell_type": "markdown",
   "metadata": {
    "id": "EBL97zOSNOUb"
   },
   "source": [
    "# **Practice lab : Optimize your training process**"
   ]
  },
  {
   "cell_type": "markdown",
   "metadata": {
    "id": "wmsmK2lGelCE"
   },
   "source": [
    "## Introduction\n",
    "\n",
    "This Lab takes place as a pratical exercice of the [fidle](https://fidle.cnrs.fr/) online course N°16.\n",
    "\n",
    "\n",
    "The goal of this notebook is to go through a typical deep learning model training. We will see what can be changed to optimize this training setup but also good practices to make more efficient experiments.\n",
    "\n",
    "\n",
    "This notebook makes use of:\n",
    "- The CIFAR10 dataset\n",
    "- A Resnet model\n",
    "- Pytorch\n",
    "- A GPU (the notebook can be ran on Jean-Zay if you have an account, on Google collab with a 16go gpu or at home with a dedicated gpu by scaling down the batch_size)\n",
    "\n",
    "In particular we will work on:\n",
    "- the dataloader strategy used to load data\n",
    "- the model initial weights, in particular using a pretrained model\n",
    "- the learning rate and learning rate scheduler\n",
    "- the optimizer\n",
    "- visualizing and comparing results using python, tensorboard\n",
    "- various good practices/reminders\n",
    "\n",
    "> First, you can do a complete execution of the notebook.\n",
    "\n",
    "> **Then comeback from the start and follow the instructions to edit various components for better performance. You can also change them during the first execution if you have some intuitions about what should be changed and how.**\n",
    "\n",
    "> **In order to compare performance, only change the xxx_optim variables which are the one you will use in your optimized training**"
   ]
  },
  {
   "cell_type": "code",
   "execution_count": 1,
   "metadata": {
    "id": "UrJW8d_lqZ-l"
   },
   "outputs": [
    {
     "name": "stdout",
     "output_type": "stream",
     "text": [
      "Sun Apr  2 13:21:34 2023       \n",
      "+-----------------------------------------------------------------------------+\n",
      "| NVIDIA-SMI 515.65.01    Driver Version: 515.65.01    CUDA Version: 11.7     |\n",
      "|-------------------------------+----------------------+----------------------+\n",
      "| GPU  Name        Persistence-M| Bus-Id        Disp.A | Volatile Uncorr. ECC |\n",
      "| Fan  Temp  Perf  Pwr:Usage/Cap|         Memory-Usage | GPU-Util  Compute M. |\n",
      "|                               |                      |               MIG M. |\n",
      "|===============================+======================+======================|\n",
      "|   0  NVIDIA A100-SXM...  On   | 00000000:03:00.0 Off |                    0 |\n",
      "| N/A   27C    P0    49W / 400W |      3MiB / 40960MiB |      0%      Default |\n",
      "|                               |                      |             Disabled |\n",
      "+-------------------------------+----------------------+----------------------+\n",
      "|   1  NVIDIA A100-SXM...  On   | 00000000:41:00.0 Off |                    0 |\n",
      "| N/A   27C    P0    52W / 400W |      3MiB / 40960MiB |      0%      Default |\n",
      "|                               |                      |             Disabled |\n",
      "+-------------------------------+----------------------+----------------------+\n",
      "|   2  NVIDIA A100-SXM...  On   | 00000000:82:00.0 Off |                    0 |\n",
      "| N/A   28C    P0    56W / 400W |      3MiB / 40960MiB |      0%      Default |\n",
      "|                               |                      |             Disabled |\n",
      "+-------------------------------+----------------------+----------------------+\n",
      "|   3  NVIDIA A100-SXM...  On   | 00000000:C1:00.0 Off |                    0 |\n",
      "| N/A   26C    P0    50W / 400W |      3MiB / 40960MiB |      0%      Default |\n",
      "|                               |                      |             Disabled |\n",
      "+-------------------------------+----------------------+----------------------+\n",
      "                                                                               \n",
      "+-----------------------------------------------------------------------------+\n",
      "| Processes:                                                                  |\n",
      "|  GPU   GI   CI        PID   Type   Process name                  GPU Memory |\n",
      "|        ID   ID                                                   Usage      |\n",
      "|=============================================================================|\n",
      "|  No running processes found                                                 |\n",
      "+-----------------------------------------------------------------------------+\n"
     ]
    }
   ],
   "source": [
    "!nvidia-smi"
   ]
  },
  {
   "cell_type": "markdown",
   "metadata": {
    "id": "527LDYwLf9gB"
   },
   "source": [
    "## Few imports"
   ]
  },
  {
   "cell_type": "code",
   "execution_count": 2,
   "metadata": {
    "id": "mPEZLMywejMG"
   },
   "outputs": [
    {
     "name": "stderr",
     "output_type": "stream",
     "text": [
      "2023-04-02 13:21:37.605181: I tensorflow/core/platform/cpu_feature_guard.cc:193] This TensorFlow binary is optimized with oneAPI Deep Neural Network Library (oneDNN) to use the following CPU instructions in performance-critical operations:  AVX2 FMA\n",
      "To enable them in other operations, rebuild TensorFlow with the appropriate compiler flags.\n",
      "2023-04-02 13:21:38.400636: W tensorflow/compiler/xla/stream_executor/platform/default/dso_loader.cc:64] Could not load dynamic library 'libnvinfer.so.7'; dlerror: libnvinfer.so.7: cannot open shared object file: No such file or directory; LD_LIBRARY_PATH: /opt/nvidia/hpc_sdk/Linux_x86_64/22.5/math_libs/11.7/lib64:/opt/nvidia/hpc_sdk/Linux_x86_64/22.5/cuda/11.7/extras/CUPTI/lib64:/opt/nvidia/hpc_sdk/Linux_x86_64/22.5/cuda/11.7/extras/Debugger/lib64:/opt/nvidia/hpc_sdk/Linux_x86_64/22.5/cuda/11.7/nvvm/lib64:/opt/nvidia/hpc_sdk/Linux_x86_64/22.5/cuda/11.7/lib64:/opt/cray/pe/papi/7.0.0.1/lib64:/opt/cray/pe/gcc/11.2.0/snos/lib64:/opt/cray/libfabric/1.15.2.0/lib64:/opt/cray/libfabric/1.15.2.0/lib64\n",
      "2023-04-02 13:21:38.400730: W tensorflow/compiler/xla/stream_executor/platform/default/dso_loader.cc:64] Could not load dynamic library 'libnvinfer_plugin.so.7'; dlerror: libnvinfer_plugin.so.7: cannot open shared object file: No such file or directory; LD_LIBRARY_PATH: /opt/nvidia/hpc_sdk/Linux_x86_64/22.5/math_libs/11.7/lib64:/opt/nvidia/hpc_sdk/Linux_x86_64/22.5/cuda/11.7/extras/CUPTI/lib64:/opt/nvidia/hpc_sdk/Linux_x86_64/22.5/cuda/11.7/extras/Debugger/lib64:/opt/nvidia/hpc_sdk/Linux_x86_64/22.5/cuda/11.7/nvvm/lib64:/opt/nvidia/hpc_sdk/Linux_x86_64/22.5/cuda/11.7/lib64:/opt/cray/pe/papi/7.0.0.1/lib64:/opt/cray/pe/gcc/11.2.0/snos/lib64:/opt/cray/libfabric/1.15.2.0/lib64:/opt/cray/libfabric/1.15.2.0/lib64\n",
      "2023-04-02 13:21:38.400734: W tensorflow/compiler/tf2tensorrt/utils/py_utils.cc:38] TF-TRT Warning: Cannot dlopen some TensorRT libraries. If you would like to use Nvidia GPU with TensorRT, please make sure the missing libraries mentioned above are installed properly.\n"
     ]
    }
   ],
   "source": [
    "import os\n",
    "import time\n",
    "import random\n",
    "import numpy as np\n",
    "\n",
    "import torch\n",
    "from torch.cuda.amp import autocast, GradScaler\n",
    "from torch.optim.lr_scheduler import _LRScheduler\n",
    "\n",
    "import torchvision\n",
    "import torchvision.transforms as transforms\n",
    "import torchvision.models as models\n",
    "from torchvision.models.resnet import ResNet18_Weights\n",
    "\n",
    "import matplotlib.pyplot as plt\n",
    "\n",
    "from datetime import datetime\n",
    "from torch.utils.tensorboard import SummaryWriter"
   ]
  },
  {
   "cell_type": "markdown",
   "metadata": {
    "id": "G_DozO12fv8o"
   },
   "source": [
    "## Fix random seeds\n",
    "In order to have experiment reproductibility, it is a good practice to fix the random number generators seeds.\n",
    "\n",
    "Warning : there might be more seeds to set than you expect! Maths,visualization,transformations libraries, ..."
   ]
  },
  {
   "cell_type": "code",
   "execution_count": 3,
   "metadata": {
    "id": "Y9jOl-D8ejWw"
   },
   "outputs": [
    {
     "data": {
      "text/plain": [
       "<torch._C.Generator at 0x154ae68ea310>"
      ]
     },
     "execution_count": 3,
     "metadata": {},
     "output_type": "execute_result"
    }
   ],
   "source": [
    "random.seed(123)\n",
    "np.random.seed(123)\n",
    "torch.manual_seed(123)"
   ]
  },
  {
   "cell_type": "markdown",
   "metadata": {
    "id": "9nZlyar5NOUr"
   },
   "source": [
    "## Some functions\n",
    "\n",
    "Below we define a few functions that will be used further in the notebook. \n",
    "\n",
    "**Do not change them unless you know what and why you are doing it.**"
   ]
  },
  {
   "cell_type": "code",
   "execution_count": 4,
   "metadata": {
    "id": "JFQtFuDWNOUt"
   },
   "outputs": [],
   "source": [
    "def iter_dataloader(dataloader, epochs, args):\n",
    "    for epoch in range(epochs):\n",
    "        for i, (images, labels) in enumerate(dataloader):\n",
    "            # distribution of images and labels to all GPUs\n",
    "            images = images.to(args['device'], non_blocking=True)\n",
    "            labels = labels.to(args['device'], non_blocking=True)\n",
    "            \n",
    "def evaluate(dataloader, model, criterion, args):\n",
    "    '''\n",
    "    A simple loop for evaluation\n",
    "    '''\n",
    "    loss = 0\n",
    "    correct = 0\n",
    "    total = 0\n",
    "    with torch.no_grad():\n",
    "        for i, (images, labels) in enumerate(dataloader):\n",
    "            # distribution of images and labels to all GPUs\n",
    "            images = images.to(args['device'], non_blocking=True)\n",
    "            labels = labels.to(args['device'], non_blocking=True)\n",
    "            outputs = model(images)\n",
    "            loss = criterion(outputs,labels)\n",
    "            _, predicted = torch.max(outputs.data, 1)\n",
    "\n",
    "            loss += loss\n",
    "            total += labels.size(0)\n",
    "            correct += (predicted == labels).sum().item()\n",
    "    loss = (loss/total).item()\n",
    "    accuracy = (correct/total)*100\n",
    "    return loss, accuracy\n",
    "\n",
    "def train_default(train_loader, val_loader, model, optimizer, criterion, args):\n",
    "    '''\n",
    "    The default simple training loop\n",
    "    '''\n",
    "    train_losses = []\n",
    "    train_accuracies = []\n",
    "    val_losses = []\n",
    "    val_accuracies = []\n",
    "    time_start = time.time()\n",
    "    for epoch in range(args['epochs']):\n",
    "        print(\"Epoch \", epoch)\n",
    "        for i, (images, labels) in enumerate(train_loader):\n",
    "            # distribution of images and labels to all GPUs\n",
    "            images = images.to(args['device'], non_blocking=True)\n",
    "            labels = labels.to(args['device'], non_blocking=True)\n",
    "            \n",
    "            # Zero the parameter gradients\n",
    "            optimizer.zero_grad()\n",
    "\n",
    "            # Forward pass\n",
    "            outputs = model(images)\n",
    "            loss = criterion(outputs, labels)\n",
    "\n",
    "            # Backward pass\n",
    "            loss.backward()\n",
    "\n",
    "            # Optimize\n",
    "            optimizer.step()\n",
    "\n",
    "        # Evaluate at the end of the epoch on the train set\n",
    "        train_loss, train_accuracy = evaluate(train_loader, model, criterion, args)\n",
    "        print(\"\\t Train loss : \", train_loss, \"& Train accuracy : \", train_accuracy)\n",
    "        train_losses.append(train_loss)\n",
    "        train_accuracies.append(train_accuracy)                \n",
    "                \n",
    "        # Evaluate at the end of the epoch on the val set\n",
    "        val_loss, val_accuracy = evaluate(val_loader, model, criterion, args)\n",
    "        print(\"\\t Validation loss : \", val_loss, \"& Validation accuracy : \", val_accuracy)\n",
    "        val_losses.append(val_loss)\n",
    "        val_accuracies.append(val_accuracy)\n",
    "        \n",
    "    duration = time.time() - time_start\n",
    "    print('Finished Training in:', duration, 'seconds with mean epoch duration:', duration/args['epochs'], ' seconds')\n",
    "    results = {'model':model,\n",
    "               'train_losses': train_losses,\n",
    "               'train_accuracies': train_accuracies,\n",
    "               'val_losses': val_losses,\n",
    "               'val_accuracies': val_accuracies,\n",
    "               'duration':duration}\n",
    "    return results\n",
    "\n",
    "def explore_lrs(dataloader, \n",
    "                model, \n",
    "                optimizer,\n",
    "                args,\n",
    "                min_learning_rate_power=-8, \n",
    "                max_learning_rate_power = 1,\n",
    "                num_lrs=10,\n",
    "                steps_per_lr=50):\n",
    "  \n",
    "    lrs = np.logspace(min_learning_rate_power, max_learning_rate_power, num=num_lrs)\n",
    "    print(\"Learning rate space : \", lrs)\n",
    "    model_init_state = model.state_dict()\n",
    "\n",
    "    lrs_losses, lrs_metric_avg, lrs_metric_var =[], [],[]\n",
    "  \n",
    "    # Iterate through learning rates to test\n",
    "    for lr in lrs:\n",
    "        print(\"Testing lr:\", '{:.2e}'.format(lr))\n",
    "        # Reset model\n",
    "        model.load_state_dict(model_init_state)\n",
    "\n",
    "        # Change learning rate in optimizer\n",
    "        for group in optimizer.param_groups:\n",
    "            group['lr'] = lr\n",
    "\n",
    "        # Reset metric tracking\n",
    "        lr_losses =[]\n",
    "\n",
    "        # Training steps\n",
    "        for step in range(steps_per_lr):\n",
    "            images, labels = next(iter(dataloader))\n",
    "            # distribution of images and labels to all GPUs\n",
    "            images = images.to(args['device'], non_blocking=True)\n",
    "            labels = labels.to(args['device'], non_blocking=True)\n",
    "            optimizer.zero_grad()\n",
    "            outputs = model(images)\n",
    "            loss = criterion(outputs, labels)\n",
    "            loss.backward()\n",
    "            optimizer.step()\n",
    "            lr_losses.append(loss.item())\n",
    "        print(lr_losses)\n",
    "\n",
    "        # Compute loss average for lr\n",
    "        lr_loss_avg = np.mean(lr_losses) \n",
    "        lr_loss_avg = lr_losses[-1]\n",
    "\n",
    "        lrs_losses.append(lr_loss_avg)\n",
    "\n",
    "        # Compute metric (discounted average gradient of the loss)\n",
    "        lr_gradients = np.gradient(lr_losses)\n",
    "        lr_metric_avg = np.mean(lr_gradients)\n",
    "        lr_metric_var = np.var(lr_gradients)\n",
    "        lrs_metric_avg.append(lr_metric_avg)    \n",
    "        lrs_metric_var.append(lr_metric_var)\n",
    "        model.load_state_dict(model_init_state)\n",
    "\n",
    "    return lrs, lrs_losses, lrs_metric_avg, lrs_metric_var\n",
    "\n",
    "def plot_eval(lrs, lrs_losses, lrs_metric_avg, lrs_metric_var):\n",
    "    print(\"lrs: \", lrs)\n",
    "    print(\"lrs_losses: \", lrs_losses)\n",
    "    print(\"lrs_metric_avg: \", lrs_metric_avg)\n",
    "    print(\"lrs_metric_var: \", lrs_metric_var)\n",
    "    fig, axs = plt.subplots(3, figsize=(10,15))\n",
    "\n",
    "    axs[0].plot(lrs, lrs_losses, color='blue', label=\"losses_avg\")\n",
    "    axs[0].set_xlabel('learning rate', fontsize=15)\n",
    "    axs[0].set_ylabel('Loss', fontsize=15)\n",
    "    axs[0].set_xscale('log')\n",
    "    axs[0].set_yscale('symlog')\n",
    "    axs[0].set_ylim([0,  min(lrs_losses)*100])\n",
    "\n",
    "    axs[1].plot(lrs, lrs_metric_avg, color='red', label=\"discounted_metric_avg\")\n",
    "    axs[1].hlines(y=0, xmin=lrs[0], xmax=lrs[-1], linewidth=2, color='black')\n",
    "    axs[1].set_xlabel('learning rate', fontsize=15)\n",
    "    axs[1].set_ylabel('Metric average', fontsize=15)\n",
    "    axs[1].set_xscale('log')\n",
    "    axs[1].set_yscale('symlog')\n",
    "    axs[1].set_ylim([-abs(lrs_metric_avg[0])*100, abs(lrs_metric_avg[0])*100])\n",
    "\n",
    "    axs[2].plot(lrs, lrs_metric_var, color='green', label=\"discounted_metric_var\")\n",
    "    axs[2].set_xlabel('learning rate', fontsize=15)\n",
    "    axs[2].set_ylabel('Metric variance', fontsize=15)\n",
    "    axs[2].set_xscale('log')\n",
    "    axs[2].set_yscale('symlog')\n",
    "    axs[2].set_ylim([0, min(lrs_metric_var)*1000])\n",
    "\n",
    "    plt.show()\n",
    "    \n",
    "def compare_trainings(results_default, results_optim):\n",
    "    fig, axs = plt.subplots(2, figsize=(10,10))\n",
    "    fig.suptitle('Performance comparison', fontsize=18)    \n",
    "    \n",
    "    train_alpha = 0.5\n",
    "    \n",
    "    # Validation losses    \n",
    "    axs[0].plot(range(len(results_default['val_losses'])), results_default['val_losses'], color='blue', label=\"default val\")\n",
    "    axs[0].plot(range(len(results_optim['val_losses'])), results_optim['val_losses'], color='red', label=\"optim val\")\n",
    "\n",
    "    # Training losses    \n",
    "    axs[0].plot(range(len(results_default['train_losses'])), results_default['train_losses'], color='blue', label=\"default train\", linestyle='--', alpha = train_alpha)\n",
    "    axs[0].plot(range(len(results_optim['train_losses'])), results_optim['train_losses'], color='red', label=\"optim train\", linestyle='--', alpha = train_alpha)\n",
    "       \n",
    "    axs[0].set_xlabel('Epochs', fontsize=14)\n",
    "    axs[0].set_ylabel('Loss', fontsize=14)\n",
    "    axs[0].set_xscale('linear')\n",
    "    axs[0].set_yscale('linear')\n",
    "    max_loss = max(results_default['train_losses']+results_default['val_losses']+results_optim['train_losses']+results_optim['val_losses'])\n",
    "    axs[0].set_ylim([0,  max_loss])\n",
    "    axs[0].legend(loc=\"upper right\")\n",
    "    \n",
    "    # Validation accuracies\n",
    "    axs[1].plot(range(len(results_default['val_accuracies'])), results_default['val_accuracies'], color='blue', label=\"default val\")\n",
    "    axs[1].plot(range(len(results_optim['val_accuracies'])), results_optim['val_accuracies'], color='red', label=\"optim val\")\n",
    "\n",
    "    # Training default accuracies\n",
    "    axs[1].plot(range(len(results_default['train_accuracies'])), results_default['train_accuracies'], color='blue', label=\"default train\", linestyle='--', alpha=train_alpha)\n",
    "    axs[1].plot(range(len(results_optim['train_accuracies'])), results_optim['train_accuracies'], color='red', label=\"optim train\", linestyle='--', alpha=train_alpha)\n",
    "    \n",
    "    axs[1].set_xlabel('Epochs', fontsize=15)\n",
    "    axs[1].set_ylabel('Accuracy', fontsize=15)\n",
    "    axs[1].set_xscale('linear')\n",
    "    axs[1].set_yscale('linear')\n",
    "    axs[1].set_ylim([0,  100])\n",
    "    axs[1].legend(loc=\"lower right\")"
   ]
  },
  {
   "cell_type": "markdown",
   "metadata": {
    "id": "USjwbaqvfvT9"
   },
   "source": [
    "## Training configuration variables\n",
    "For the first run, you can let all the values given by default.\n",
    "For the optimized run, you could changing some parameters. \n",
    ">In particular, you will have to change :\n",
    ">- the batch_size\n",
    ">- the learning rate"
   ]
  },
  {
   "cell_type": "code",
   "execution_count": 5,
   "metadata": {
    "id": "vJRP94hFejjg"
   },
   "outputs": [],
   "source": [
    "args = {\n",
    "    'batch_size':64,\n",
    "    'epochs': 10,\n",
    "    'image_size': 224,\n",
    "    'learning_rate': 0.001,\n",
    "    'momentum': 0.9,\n",
    "    'weight_decay': 0.0001,\n",
    "    'download': True,\n",
    "    'device': torch.device(\"cuda\") if torch.cuda.is_available() else torch.device(\"cpu\"),\n",
    "    'dataset_root_dir': os.getcwd(),\n",
    "}\n",
    "\n",
    "#################################################\n",
    "############# Modify the code below #############\n",
    "#################################################\n",
    "args_optim = {\n",
    "    'batch_size':64,\n",
    "    'epochs': 10,\n",
    "    'image_size': 224,\n",
    "    'learning_rate': 0.001,\n",
    "    'momentum': 0.9,\n",
    "    'weight_decay': 0.0001,\n",
    "    'download': True,\n",
    "    'device': torch.device(\"cuda\") if torch.cuda.is_available() else torch.device(\"cpu\"),\n",
    "    'dataset_root_dir': os.getcwd(), \n",
    "}"
   ]
  },
  {
   "cell_type": "markdown",
   "metadata": {
    "id": "pfQP_RbKAU6N"
   },
   "source": [
    "<details>\n",
    "<summary>Spoiler (click to reveal)</summary>\n",
    "\n",
    "```python\n",
    "args_optim = {\n",
    "    'batch_size':512,\n",
    "    'epochs': 10,\n",
    "    'image_size': 224,\n",
    "    'learning_rate': 0.001,\n",
    "    'momentum': 0.9,\n",
    "    'weight_decay': 0.01,\n",
    "    'download': True,\n",
    "    'device': torch.device(\"cuda\") if torch.cuda.is_available() else torch.device(\"cpu\"),\n",
    "    'dataset_root_dir': os.getcwd(), \n",
    "}\n",
    "```    \n",
    "</details>"
   ]
  },
  {
   "cell_type": "markdown",
   "metadata": {
    "id": "b5CbvfOAfnQ9"
   },
   "source": [
    "## Data transformation and augmentation\n",
    "Below, we define the transformations to apply to each image when loaded.\n",
    "It can serve three main purposes:\n",
    "- having the data in the desired format for the model (systematic transformation)\n",
    "- correcting/normalizing the data (systematic transformation)\n",
    "- artificially increasing the amount of data by transforming the data  (random transformation)\n",
    "\n",
    "Warning : the evaluation dataset should always be the same so you should not apply random transformations to it.\n",
    "\n",
    "> Enrich the transformations by using the provided by torchvision : https://pytorch.org/vision/0.12/transforms.html\n",
    "\n",
    "> **Change transform_optim and val_transform_optim only**"
   ]
  },
  {
   "cell_type": "code",
   "execution_count": 6,
   "metadata": {
    "id": "I8d51hBifiDH"
   },
   "outputs": [],
   "source": [
    "transform = transforms.Compose([transforms.ToTensor()])     # convert the PIL Image to a tensor\n",
    "val_transform = transforms.Compose([transforms.ToTensor()]) # convert the PIL Image to a tensor\n",
    "                \n",
    "#################################################\n",
    "############# Modify the code below #############\n",
    "#################################################\n",
    "transform_optim = transforms.Compose([transforms.ToTensor()])     # convert the PIL Image to a tensor\n",
    "val_transform_optim = transforms.Compose([transforms.ToTensor()]) # convert the PIL Image to a tensor"
   ]
  },
  {
   "cell_type": "markdown",
   "metadata": {
    "id": "VZp4xMdxrJs9"
   },
   "source": [
    "<details>\n",
    "<summary>Spoiler</summary>\n",
    "\n",
    "    \n",
    "```python\n",
    "transform_optim = transforms.Compose([ \n",
    "    transforms.RandomHorizontalFlip(),              # Horizontal Flip - Data Augmentation\n",
    "    transforms.ToTensor()                          # convert the PIL Image to a tensor\n",
    "    ])\n",
    "\n",
    "val_transform_optim = transforms.Compose([\n",
    "                transforms.ToTensor()                           # convert the PIL Image to a tensor\n",
    "                ])\n",
    "```    \n",
    "</details>"
   ]
  },
  {
   "cell_type": "markdown",
   "metadata": {
    "id": "rYIkzw02fqnd"
   },
   "source": [
    "## Dataset\n",
    "In the cell below, we define the dataset.\n",
    "Here we have two subset:\n",
    "- a training subset for model optimization\n",
    "- a test subset for model evaluation"
   ]
  },
  {
   "cell_type": "code",
   "execution_count": 7,
   "metadata": {
    "id": "RImKrDEwe-Y7"
   },
   "outputs": [
    {
     "name": "stdout",
     "output_type": "stream",
     "text": [
      "Downloading https://www.cs.toronto.edu/~kriz/cifar-10-python.tar.gz to /global/u1/d/dagoret/mydesc/2023/MyDeepNN/PhotoZ/PhotoZInRail/notebooks/fromfidle/CIFAR_10/cifar-10-python.tar.gz\n"
     ]
    },
    {
     "name": "stderr",
     "output_type": "stream",
     "text": [
      "100%|██████████| 170498071/170498071 [00:03<00:00, 49149782.98it/s]\n"
     ]
    },
    {
     "name": "stdout",
     "output_type": "stream",
     "text": [
      "Extracting /global/u1/d/dagoret/mydesc/2023/MyDeepNN/PhotoZ/PhotoZInRail/notebooks/fromfidle/CIFAR_10/cifar-10-python.tar.gz to /global/u1/d/dagoret/mydesc/2023/MyDeepNN/PhotoZ/PhotoZInRail/notebooks/fromfidle/CIFAR_10\n",
      "Files already downloaded and verified\n",
      "Files already downloaded and verified\n",
      "Files already downloaded and verified\n"
     ]
    }
   ],
   "source": [
    "train_dataset = torchvision.datasets.CIFAR10(root=args['dataset_root_dir']+'/CIFAR_10', train=True, download=args['download'], transform=transform)\n",
    "\n",
    "val_dataset = torchvision.datasets.CIFAR10(root=args['dataset_root_dir']+'/CIFAR_10', train=False, download=args['download'], transform=val_transform)\n",
    "\n",
    "train_dataset_optim = torchvision.datasets.CIFAR10(root=args_optim['dataset_root_dir']+'/CIFAR_10', train=True, download=args_optim['download'], transform=transform_optim)\n",
    "\n",
    "val_dataset_optim = torchvision.datasets.CIFAR10(root=args_optim['dataset_root_dir']+'/CIFAR_10', train=False, download=args_optim['download'], transform=val_transform_optim)"
   ]
  },
  {
   "cell_type": "markdown",
   "metadata": {
    "id": "tFMn2WRHgDko"
   },
   "source": [
    "## Dataloader\n",
    "The DataLoader class in PyTorch is responsible for loading and batching data from a dataset object, such as a PyTorch tensor or a NumPy array.\n",
    "It works by creating a Python iterable over the dataset and yielding a batch of data at each iteration.\n",
    "\n",
    "Those batches will be fed to the model for training or inference.\n",
    "\n",
    "The DataLoader class also provides various options for shuffling, batching, and parallelizing the data loading process, making it a useful tool for efficient and flexible data handling in PyTorch.\n",
    "> Take a look at the DataLoader documentation : https://pytorch.org/docs/stable/data.html#torch.utils.data.DataLoader\n",
    "\n",
    "> Optimize the dataloader by taking advantage of parallelism and smart use of computational ressources :\n",
    ">- batch_size\n",
    ">- pin_memory\n",
    ">- prefetch_factor \n",
    ">- persistent_workers \n",
    ">- num_workers"
   ]
  },
  {
   "cell_type": "code",
   "execution_count": 8,
   "metadata": {
    "id": "r9Mp67_fgIGN"
   },
   "outputs": [],
   "source": [
    "train_loader = torch.utils.data.DataLoader(dataset=train_dataset,\n",
    "                                           batch_size=args['batch_size'],\n",
    "                                           shuffle=True,\n",
    "                                           drop_last=True)\n",
    "\n",
    "val_loader = torch.utils.data.DataLoader(dataset=val_dataset,    \n",
    "                                         batch_size=args['batch_size'],\n",
    "                                         shuffle=False,\n",
    "                                         drop_last=True)\n",
    "\n",
    "#################################################\n",
    "############# Modify the code below #############\n",
    "#################################################\n",
    "train_loader_optim = torch.utils.data.DataLoader(dataset=train_dataset,\n",
    "                                           batch_size=args_optim['batch_size'],\n",
    "                                           shuffle=True,\n",
    "                                           drop_last=True)\n",
    "\n",
    "val_loader_optim = torch.utils.data.DataLoader(dataset=val_dataset,    \n",
    "                                         batch_size=args_optim['batch_size'],\n",
    "                                         shuffle=False,\n",
    "                                         drop_last=True)\n"
   ]
  },
  {
   "cell_type": "code",
   "execution_count": 9,
   "metadata": {
    "id": "mvMxD20VNOU8"
   },
   "outputs": [
    {
     "name": "stdout",
     "output_type": "stream",
     "text": [
      "4.08 s ± 0 ns per loop (mean ± std. dev. of 1 run, 1 loop each)\n",
      "4.1 s ± 0 ns per loop (mean ± std. dev. of 1 run, 1 loop each)\n"
     ]
    }
   ],
   "source": [
    "%timeit -r 1 -n 1 iter_dataloader(train_loader, 1, args)\n",
    "%timeit -r 1 -n 1 iter_dataloader(train_loader_optim, 1, args_optim)"
   ]
  },
  {
   "cell_type": "markdown",
   "metadata": {
    "id": "Vegex5s0gIVF"
   },
   "source": [
    "<details>\n",
    "<summary>Spoiler</summary>\n",
    "WIP : Quelques explications\n",
    "\n",
    "```python\n",
    "train_loader_optim = torch.utils.data.DataLoader(dataset=train_dataset_optim,\n",
    "                                                 batch_size=args_optim['batch_size'],\n",
    "                                                 shuffle=True,\n",
    "                                                 drop_last=True,\n",
    "                                                 num_workers=10,\n",
    "                                                 persistent_workers=True,\n",
    "                                                 pin_memory=True,\n",
    "                                                 prefetch_factor=10)\n",
    "\n",
    "val_loader_optim = torch.utils.data.DataLoader(dataset=val_dataset_optim,    \n",
    "                                               batch_size=args_optim['batch_size'],\n",
    "                                               shuffle=False,\n",
    "                                               drop_last=True,\n",
    "                                               num_workers=10,\n",
    "                                               persistent_workers=True,\n",
    "                                               pin_memory=True,\n",
    "                                               prefetch_factor=10)\n",
    "```    \n",
    "</details>"
   ]
  },
  {
   "cell_type": "markdown",
   "metadata": {
    "id": "2_yVrvKvgIt0"
   },
   "source": [
    "## Model\n",
    "\n",
    "> Do not forget to verify that you use the right compute ressources for your model\n",
    "\n",
    "> By default, the model resnet18 is initialized with random weights but you could try using a pretrained model : https://pytorch.org/vision/main/models/generated/torchvision.models.resnet18.html#torchvision.models.ResNet18_Weights"
   ]
  },
  {
   "cell_type": "code",
   "execution_count": 10,
   "metadata": {
    "id": "NCQgZOx6gI6Q"
   },
   "outputs": [
    {
     "name": "stdout",
     "output_type": "stream",
     "text": [
      "Stock model on device: cpu\n",
      "Optimized model on device: cpu\n"
     ]
    }
   ],
   "source": [
    "model = models.resnet18()\n",
    "model = model.to(args['device'])\n",
    "model.name = 'Resnet-18'\n",
    "print(\"Stock model on device:\", next(model.parameters()).device)\n",
    "#################################################\n",
    "############# Modify the code below #############\n",
    "#################################################\n",
    "model_optim = models.resnet18()\n",
    "model_optim = model_optim.to(args_optim['device'])\n",
    "model_optim.name = 'Resnet-18'\n",
    "print(\"Optimized model on device:\", next(model_optim.parameters()).device)"
   ]
  },
  {
   "cell_type": "markdown",
   "metadata": {
    "id": "p4umlBOmghZX"
   },
   "source": [
    "<details>\n",
    "<summary>Spoiler</summary>\n",
    "    \n",
    "```python\n",
    "model_optim = models.resnet18(ResNet18_Weights)\n",
    "model_optim = model_optim.to(args_optim['device'])\n",
    "model_optim.name = 'Resnet-18'\n",
    "print(\"Optimized model on device:\", next(model_optim.parameters()).device)\n",
    "```    \n",
    "</details>"
   ]
  },
  {
   "cell_type": "markdown",
   "metadata": {
    "id": "Ur1uA38ugiBl"
   },
   "source": [
    "## Loss\n",
    "We use a standart loss for classification.\n",
    "\n",
    "For the comparison, if you change the loss, change it for both.\n"
   ]
  },
  {
   "cell_type": "code",
   "execution_count": 11,
   "metadata": {
    "id": "sxSZEKKogiJe"
   },
   "outputs": [],
   "source": [
    "criterion = torch.nn.CrossEntropyLoss()\n",
    "criterion_optim = torch.nn.CrossEntropyLoss()"
   ]
  },
  {
   "cell_type": "markdown",
   "metadata": {
    "id": "qJadxpf_giT4"
   },
   "source": [
    "## Optimizer\n",
    "\n",
    "> In order to speed up the training, you can try to use a different optimizer: https://pytorch.org/docs/stable/optim.html#base-class"
   ]
  },
  {
   "cell_type": "code",
   "execution_count": 12,
   "metadata": {
    "id": "3fsqrktLgiaJ"
   },
   "outputs": [],
   "source": [
    "optimizer = torch.optim.SGD(model.parameters(), args['learning_rate'], args['momentum'], args['weight_decay'])\n",
    "#################################################\n",
    "############# Modify the code below #############\n",
    "#################################################\n",
    "optimizer_optim = torch.optim.SGD(model.parameters(), args_optim['learning_rate'], args_optim['momentum'], args_optim['weight_decay'])"
   ]
  },
  {
   "cell_type": "markdown",
   "metadata": {
    "id": "ZEcyEt1Ig21T"
   },
   "source": [
    "<details>\n",
    "<summary>Spoiler</summary>\n",
    "\n",
    "```python\n",
    "optimizer_optim = torch.optim.AdamW(model_optim.parameters(), lr = args_optim['learning_rate'], weight_decay=args_optim['weight_decay'])\n",
    "```\n",
    "</details>"
   ]
  },
  {
   "cell_type": "markdown",
   "metadata": {
    "id": "3wcKevBct--P"
   },
   "source": [
    "## Learning rate scheduler\n",
    "In order to adjust the learning rate over iterations/epochs, we can make use of a learning rate scheduler.\n",
    "\n",
    "To use a LR scheduler, you will need to :\n",
    "- instantiate the scheduler (in the coding cell below)\n",
    "- adapt the training loop (in the \"Training\" section)\n",
    "\n",
    "Take a look at this page : https://pytorch.org/docs/stable/optim.html#how-to-adjust-learning-rate which: \n",
    "- describes how to use a scheduler (warning : some scheduler are updated at a step level and others at an epoch level)\n",
    "- lists the available schedulers (you could also create your own starting from the _LRScheduler class)\n",
    "\n",
    "> **You can define your scheduler here.**\n",
    "\n",
    "> **You will have to modify the training loop later on.**"
   ]
  },
  {
   "cell_type": "code",
   "execution_count": 13,
   "metadata": {
    "id": "ISanTSFWuBps"
   },
   "outputs": [],
   "source": [
    "scheduler = None\n",
    "#################################################\n",
    "############# Modify the code below #############\n",
    "#################################################\n",
    "scheduler_optim = None"
   ]
  },
  {
   "cell_type": "markdown",
   "metadata": {
    "id": "KvnPRnuJvjVx"
   },
   "source": [
    "<details>\n",
    "<summary>Spoiler</summary>\n",
    "    \n",
    "```python\n",
    "scheduler_optim = torch.optim.lr_scheduler.OneCycleLR(optimizer_optim, \n",
    "                                                      max_lr=args_optim['learning_rate'], \n",
    "                                                      steps_per_epoch = len(train_loader_optim), \n",
    "                                                      epochs=args_optim['epochs'])\n",
    "```    \n",
    "</details>"
   ]
  },
  {
   "cell_type": "markdown",
   "metadata": {
    "id": "YxPlz4U3g9Yv"
   },
   "source": [
    "## Model training (reference performances)\n",
    "Once we have all our main actors, we can setup the stage that is our training loop.\n",
    "\n",
    "Below is used a typical loop as you can find in https://pytorch.org/tutorials/beginner/blitz/cifar10_tutorial.html\n",
    "> **Run it a first time to have a performance baseline with all the default values.**"
   ]
  },
  {
   "cell_type": "code",
   "execution_count": 14,
   "metadata": {
    "id": "cy1QzZxwNOVH"
   },
   "outputs": [
    {
     "name": "stdout",
     "output_type": "stream",
     "text": [
      "Epoch  0\n",
      "\t Train loss :  4.905181413050741e-05 & Train accuracy :  53.55513764404609\n",
      "\t Validation loss :  0.0002920919214375317 & Validation accuracy :  50.46073717948718\n",
      "Epoch  1\n",
      "\t Train loss :  3.934508640668355e-05 & Train accuracy :  61.6397247119078\n",
      "\t Validation loss :  0.00026017584605142474 & Validation accuracy :  55.348557692307686\n",
      "Epoch  2\n",
      "\t Train loss :  4.223021096549928e-05 & Train accuracy :  68.00776248399488\n",
      "\t Validation loss :  0.000211708465940319 & Validation accuracy :  59.80568910256411\n",
      "Epoch  3\n",
      "\t Train loss :  3.337245652801357e-05 & Train accuracy :  73.31946222791294\n",
      "\t Validation loss :  0.00019679077377077192 & Validation accuracy :  61.54847756410257\n",
      "Epoch  4\n",
      "\t Train loss :  2.0304609279264696e-05 & Train accuracy :  77.44278169014085\n",
      "\t Validation loss :  0.00023740838514640927 & Validation accuracy :  62.14943910256411\n",
      "Epoch  5\n",
      "\t Train loss :  2.2036128939362243e-05 & Train accuracy :  81.31602112676056\n",
      "\t Validation loss :  0.00022643945703748614 & Validation accuracy :  63.48157051282052\n",
      "Epoch  6\n",
      "\t Train loss :  1.5183515643002465e-05 & Train accuracy :  84.39100512163893\n",
      "\t Validation loss :  0.0002304013178218156 & Validation accuracy :  63.25120192307693\n",
      "Epoch  7\n",
      "\t Train loss :  9.534612217976246e-06 & Train accuracy :  87.38396286811779\n",
      "\t Validation loss :  0.00024450174532830715 & Validation accuracy :  63.571714743589745\n",
      "Epoch  8\n",
      "\t Train loss :  1.1243647350056563e-05 & Train accuracy :  90.13284250960308\n",
      "\t Validation loss :  0.0002782246156129986 & Validation accuracy :  64.09254807692307\n",
      "Epoch  9\n",
      "\t Train loss :  9.188901458401233e-06 & Train accuracy :  91.81137964148527\n",
      "\t Validation loss :  0.00028075557202100754 & Validation accuracy :  64.0625\n",
      "Finished Training in: 1008.5593612194061 seconds with mean epoch duration: 100.85593612194062  seconds\n"
     ]
    }
   ],
   "source": [
    "results_default = train_default(train_loader, val_loader, model, optimizer, criterion, args)"
   ]
  },
  {
   "cell_type": "markdown",
   "metadata": {
    "id": "7vU3uot9v3hc"
   },
   "source": [
    "## Speeding up the hyperparameter search : Learning Rate Finder\n",
    "Wether we are using a scheduler or not, we need to determine either : \n",
    "- the constant learning rate you want to use, \n",
    "- or the maximum learning rate used by the scheduler.\n",
    "\n",
    "If you are in the first situation, you just want a good all-rounder learning rate to have a relatively fast conversion and minimize the oscillations at the end of the convergence.\n",
    "\n",
    "In the second situation, you can focus more on having the fastest inital convergence as the oscillations will be generally taken care by a decreasing learning rate strategy. Thus, we want the highest maximum learning rate possible.\n",
    "\n",
    "It would be ideal to find the best learning rate quickly in order to speedup our hyperparameter search.\n",
    "Various strategy more or less complex exists to find an estimate of this value.\n",
    "Below, we try to find the learning rate by doing a few steps on a range of learning rates. We evaluate each learning rate to determine the best one to choose for our full training.\n",
    "\n",
    "> **As this step can take quite some time, we provided you with some values for the default config which you are not supposed to change anyway. You can find them in the next spoiler**\n",
    "\n",
    "> **Uncomment explore_lrs to rerun the exploration, otherwise you can reuse the given values.**\n",
    "\n",
    "> **Be careful to re-run this cell to reset the model and optimizer,...  to have a \"fresh\" exploration each time**\n",
    "\n",
    "> **Also if you change the optimizer for the optimized run, change it also here to find the best learning rate for that optimizer.** Or rerun the cell where you defined it."
   ]
  },
  {
   "cell_type": "code",
   "execution_count": 15,
   "metadata": {
    "id": "kG45YwwY5Hut"
   },
   "outputs": [
    {
     "name": "stdout",
     "output_type": "stream",
     "text": [
      "Learning rate space :  [1.e-06 1.e-05 1.e-04 1.e-03 1.e-02 1.e-01 1.e+00 1.e+01]\n",
      "Testing lr: 1.00e-06\n",
      "[7.419760227203369, 7.593792915344238, 7.482074737548828, 7.374803066253662, 7.391929626464844, 7.41804838180542, 7.336313724517822, 7.395488739013672, 7.303165435791016, 7.398961067199707, 7.486789226531982, 7.360423564910889, 7.376132011413574, 7.339271545410156, 7.487018585205078, 7.397145748138428, 7.39180850982666, 7.309584617614746, 7.4285197257995605, 7.360744953155518, 7.5600175857543945, 7.405040264129639, 7.262430667877197, 7.499046325683594, 7.363178253173828, 7.544572830200195, 7.408862590789795, 7.483294486999512, 7.441955089569092, 7.549698352813721, 7.399511814117432, 7.506143569946289, 7.440771579742432, 7.567552089691162, 7.421284198760986, 7.464478015899658, 7.459981441497803, 7.502686023712158, 7.553403377532959, 7.49574089050293, 7.304009437561035, 7.418666839599609, 7.464599609375, 7.243458271026611, 7.343512058258057, 7.504942417144775, 7.45670223236084, 7.422182083129883, 7.488075256347656, 7.369601726531982, 7.4670562744140625, 7.445424556732178, 7.522863388061523, 7.365819931030273, 7.361070156097412, 7.506048202514648, 7.370262622833252, 7.201982498168945, 7.484639644622803, 7.585654258728027, 7.336128234863281, 7.455915927886963, 7.354143142700195, 7.464044094085693, 7.339362144470215, 7.617467880249023, 7.346850872039795, 7.491522789001465, 7.399875164031982, 7.534310817718506, 7.304483413696289, 7.400436878204346, 7.293397903442383, 7.508495330810547, 7.476439952850342, 7.382992744445801, 7.4573798179626465, 7.554746627807617, 7.518196105957031, 7.303648471832275, 7.254421710968018, 7.410836219787598, 7.533016681671143, 7.4553375244140625, 7.376626014709473, 7.706864833831787, 7.320180892944336, 7.357470512390137, 7.356980800628662, 7.51638126373291, 7.44268274307251, 7.395565986633301, 7.509329319000244, 7.560778617858887, 7.377181053161621, 7.549559593200684, 7.670019149780273, 7.578525066375732, 7.3923020362854, 7.355217456817627]\n",
      "Testing lr: 1.00e-05\n",
      "[7.507073402404785, 7.480041980743408, 7.473854064941406, 7.509212493896484, 7.298604488372803, 7.379026889801025, 7.584269046783447, 7.501895427703857, 7.481614589691162, 7.483633041381836, 7.400641918182373, 7.385201930999756, 7.414117813110352, 7.366922855377197, 7.468939781188965, 7.494457244873047, 7.36195182800293, 7.431619644165039, 7.260492324829102, 7.410035610198975, 7.483113765716553, 7.409327030181885, 7.573590278625488, 7.398221969604492, 7.308658599853516, 7.3926167488098145, 7.330447673797607, 7.465405464172363, 7.426718235015869, 7.373086929321289, 7.344696998596191, 7.468041896820068, 7.52498722076416, 7.678532600402832, 7.483208656311035, 7.403431415557861, 7.578581809997559, 7.343075752258301, 7.363282680511475, 7.377161026000977, 7.5938262939453125, 7.555202960968018, 7.49423885345459, 7.468033790588379, 7.4046125411987305, 7.481019496917725, 7.38373327255249, 7.501092433929443, 7.374701023101807, 7.409092426300049, 7.619810581207275, 7.385876655578613, 7.66708517074585, 7.392982006072998, 7.3641815185546875, 7.51650333404541, 7.422152042388916, 7.294619560241699, 7.5052056312561035, 7.578333377838135, 7.616257667541504, 7.587737560272217, 7.3515119552612305, 7.305661678314209, 7.511484622955322, 7.330052852630615, 7.583024024963379, 7.326706886291504, 7.370547294616699, 7.424891471862793, 7.515485763549805, 7.400237083435059, 7.382480621337891, 7.436619758605957, 7.344265460968018, 7.328356742858887, 7.518883228302002, 7.569310665130615, 7.346742630004883, 7.549232482910156, 7.370077133178711, 7.364647388458252, 7.363203525543213, 7.425027847290039, 7.410587310791016, 7.569702625274658, 7.614126205444336, 7.456116676330566, 7.365342617034912, 7.545656681060791, 7.425245761871338, 7.358297824859619, 7.4248833656311035, 7.4910383224487305, 7.545748710632324, 7.537976264953613, 7.336500644683838, 7.5128068923950195, 7.37183141708374, 7.284224510192871]\n",
      "Testing lr: 1.00e-04\n",
      "[7.509480953216553, 7.376405715942383, 7.378587245941162, 7.5795488357543945, 7.2880940437316895, 7.421067237854004, 7.4947004318237305, 7.312798023223877, 7.517444610595703, 7.319999694824219, 7.32523250579834, 7.576446056365967, 7.499637603759766, 7.5545525550842285, 7.475016117095947, 7.428677558898926, 7.603419303894043, 7.4470696449279785, 7.481826305389404, 7.413771152496338, 7.362215042114258, 7.352053642272949, 7.498864650726318, 7.406499862670898, 7.526271343231201, 7.390324115753174, 7.605118751525879, 7.372823715209961, 7.360674858093262, 7.388664245605469, 7.352467060089111, 7.328353404998779, 7.419597625732422, 7.488522529602051, 7.529510974884033, 7.4468159675598145, 7.340005397796631, 7.255965709686279, 7.493046760559082, 7.296502113342285, 7.678790092468262, 7.4772257804870605, 7.405194282531738, 7.468563556671143, 7.47401237487793, 7.488365650177002, 7.429876804351807, 7.616283416748047, 7.585488319396973, 7.48737907409668, 7.437646865844727, 7.411310195922852, 7.438054084777832, 7.523705959320068, 7.491557598114014, 7.577145576477051, 7.313694953918457, 7.388830184936523, 7.532190799713135, 7.474624156951904, 7.549981117248535, 7.488116264343262, 7.451590538024902, 7.420560836791992, 7.350865364074707, 7.4602837562561035, 7.618228912353516, 7.373398780822754, 7.567434310913086, 7.396777153015137, 7.44434118270874, 7.469860076904297, 7.3288960456848145, 7.53565788269043, 7.375953674316406, 7.534162998199463, 7.3600754737854, 7.309037685394287, 7.5286078453063965, 7.520178318023682, 7.5042524337768555, 7.327430248260498, 7.394923686981201, 7.397241115570068, 7.3325090408325195, 7.306190490722656, 7.579514980316162, 7.466948986053467, 7.557119369506836, 7.424918174743652, 7.469153881072998, 7.4640679359436035, 7.492002010345459, 7.439135551452637, 7.313169479370117, 7.556757926940918, 7.495383262634277, 7.546398162841797, 7.503524303436279, 7.47169303894043]\n",
      "Testing lr: 1.00e-03\n",
      "[7.414229393005371, 7.442055702209473, 7.431274890899658, 7.50865364074707, 7.507354736328125, 7.331664562225342, 7.459498405456543, 7.4934000968933105, 7.343705654144287, 7.490530014038086, 7.476247787475586, 7.396803379058838, 7.419757843017578, 7.327024459838867, 7.418910503387451, 7.32996129989624, 7.523789405822754, 7.411228656768799, 7.447990417480469, 7.557520389556885, 7.435966491699219, 7.3540496826171875, 7.448550701141357, 7.345885276794434, 7.490915775299072, 7.436008930206299, 7.561872482299805, 7.3958964347839355, 7.296273708343506, 7.4001145362854, 7.446207046508789, 7.4690327644348145, 7.466127395629883, 7.541215419769287, 7.358765602111816, 7.508065700531006, 7.491244792938232, 7.407318115234375, 7.441563129425049, 7.620304584503174, 7.396093845367432, 7.327824115753174, 7.3950886726379395, 7.384830951690674, 7.431437015533447, 7.319897174835205, 7.472724914550781, 7.435823440551758, 7.377806186676025, 7.381910800933838, 7.527732849121094, 7.441296577453613, 7.395347595214844, 7.492489814758301, 7.483610153198242, 7.542879104614258, 7.456097602844238, 7.360726356506348, 7.493065357208252, 7.463813781738281, 7.394425868988037, 7.47614049911499, 7.430739879608154, 7.412458419799805, 7.4597249031066895, 7.409955024719238, 7.446234703063965, 7.30151891708374, 7.443187236785889, 7.333274841308594, 7.370085716247559, 7.492861270904541, 7.578039169311523, 7.2754340171813965, 7.316645622253418, 7.417101860046387, 7.520532131195068, 7.451280117034912, 7.4709343910217285, 7.441529750823975, 7.3639750480651855, 7.28690767288208, 7.362671375274658, 7.390379428863525, 7.319864273071289, 7.352335453033447, 7.422409534454346, 7.4755706787109375, 7.437492370605469, 7.40445613861084, 7.450924396514893, 7.59809684753418, 7.486468315124512, 7.393438816070557, 7.388000965118408, 7.364753723144531, 7.527534008026123, 7.376319408416748, 7.371830463409424, 7.5626420974731445]\n",
      "Testing lr: 1.00e-02\n",
      "[7.350325107574463, 7.369810104370117, 7.32516622543335, 7.507959842681885, 7.457028388977051, 7.37057638168335, 7.338408470153809, 7.459720611572266, 7.4014973640441895, 7.350642681121826, 7.669791221618652, 7.4571428298950195, 7.47985315322876, 7.409826278686523, 7.316840648651123, 7.393313884735107, 7.391636848449707, 7.421659469604492, 7.2645487785339355, 7.58428955078125, 7.4232659339904785, 7.370655059814453, 7.4941301345825195, 7.479381084442139, 7.337989807128906, 7.3224568367004395, 7.380464553833008, 7.580165863037109, 7.342601299285889, 7.623930931091309, 7.461554050445557, 7.3399434089660645, 7.545234680175781, 7.376259803771973, 7.35396146774292, 7.687435150146484, 7.393507480621338, 7.424880504608154, 7.499804973602295, 7.46295166015625, 7.372064590454102, 7.546996593475342, 7.581618309020996, 7.472068786621094, 7.436976909637451, 7.365837574005127, 7.5019450187683105, 7.431813716888428, 7.384066581726074, 7.5142974853515625, 7.517046928405762, 7.594900608062744, 7.4974164962768555, 7.382063388824463, 7.527327060699463, 7.44193172454834, 7.443778038024902, 7.4980645179748535, 7.299663066864014, 7.3491034507751465, 7.6435112953186035, 7.486280918121338, 7.522146701812744, 7.457011699676514, 7.435609340667725, 7.389897346496582, 7.4377031326293945, 7.352298259735107, 7.410548210144043, 7.444468975067139, 7.56559944152832, 7.409865856170654, 7.40023946762085, 7.487557411193848, 7.50351095199585, 7.3531670570373535, 7.377418041229248, 7.454440116882324, 7.4570512771606445, 7.41347074508667, 7.35923957824707, 7.294426441192627, 7.427575588226318, 7.433163166046143, 7.461128234863281, 7.339001655578613, 7.457264423370361, 7.307725429534912, 7.401145935058594, 7.433144569396973, 7.420044422149658, 7.382503509521484, 7.414788722991943, 7.433629035949707, 7.295390605926514, 7.429897785186768, 7.381355285644531, 7.406510829925537, 7.389052867889404, 7.4147725105285645]\n",
      "Testing lr: 1.00e-01\n",
      "[7.520678520202637, 7.517599582672119, 7.490523338317871, 7.328078746795654, 7.504829406738281, 7.481429100036621, 7.475660800933838, 7.516222953796387, 7.551016330718994, 7.514842987060547, 7.37050724029541, 7.57372522354126, 7.427130699157715, 7.389801979064941, 7.4525227546691895, 7.373744964599609, 7.409205913543701, 7.515271186828613, 7.3581390380859375, 7.492640495300293, 7.426584720611572, 7.475596904754639, 7.461876392364502, 7.490936279296875, 7.405865669250488, 7.38824987411499, 7.300663471221924, 7.450161933898926, 7.284674167633057, 7.313803195953369, 7.393412113189697, 7.344696044921875, 7.5095977783203125, 7.460411071777344, 7.543034076690674, 7.440454006195068, 7.216982364654541, 7.388031482696533, 7.5275115966796875, 7.376597881317139, 7.295349597930908, 7.431461334228516, 7.40602970123291, 7.451493740081787, 7.524389266967773, 7.378510475158691, 7.358376979827881, 7.4489641189575195, 7.488983154296875, 7.295016765594482, 7.426154613494873, 7.463868141174316, 7.566758155822754, 7.428266525268555, 7.530665874481201, 7.427643299102783, 7.514691352844238, 7.638052463531494, 7.421200752258301, 7.437817573547363, 7.360912322998047, 7.242541313171387, 7.466230392456055, 7.477941513061523, 7.378423690795898, 7.395641326904297, 7.571517467498779, 7.489190578460693, 7.452282905578613, 7.472546577453613, 7.44456672668457, 7.31815242767334, 7.443853378295898, 7.398118019104004, 7.365251064300537, 7.362204551696777, 7.287405967712402, 7.483693599700928, 7.424046039581299, 7.56741189956665, 7.293667793273926, 7.400763511657715, 7.529911994934082, 7.527596950531006, 7.4558329582214355, 7.294003009796143, 7.4715704917907715, 7.407731056213379, 7.373872756958008, 7.396429061889648, 7.527144908905029, 7.548656940460205, 7.544857501983643, 7.556595325469971, 7.4164814949035645, 7.386165618896484, 7.312209129333496, 7.3248419761657715, 7.34271240234375, 7.483739376068115]\n",
      "Testing lr: 1.00e+00\n",
      "[7.351171493530273, 7.373095512390137, 7.404135227203369, 7.456360816955566, 7.368862628936768, 7.4526472091674805, 7.536891937255859, 7.479545593261719, 7.315878391265869, 7.382385730743408, 7.469724178314209, 7.375044345855713, 7.498600006103516, 7.317770481109619, 7.399544715881348, 7.36569881439209, 7.478880882263184, 7.515996932983398, 7.320478439331055, 7.376029014587402, 7.387002944946289, 7.50782585144043, 7.334042549133301, 7.466392517089844, 7.479254722595215, 7.417822360992432, 7.321046829223633, 7.4219255447387695, 7.677552223205566, 7.525335788726807, 7.478794574737549, 7.433156967163086, 7.4876484870910645, 7.5189433097839355, 7.402174949645996, 7.366800308227539, 7.436352729797363, 7.503838539123535, 7.352564334869385, 7.431078910827637, 7.376819610595703, 7.457706451416016, 7.466853618621826, 7.302405834197998, 7.50126314163208, 7.507023811340332, 7.431283950805664, 7.519029140472412, 7.385748863220215, 7.372767448425293, 7.505043983459473, 7.355027675628662, 7.451132774353027, 7.424067497253418, 7.4581193923950195, 7.3993659019470215, 7.335655212402344, 7.392488479614258, 7.427157878875732, 7.430538177490234, 7.434749603271484, 7.432432651519775, 7.405489444732666, 7.4616241455078125, 7.332235813140869, 7.223793983459473, 7.404766082763672, 7.564533233642578, 7.4488372802734375, 7.3235087394714355, 7.501266956329346, 7.585242748260498, 7.580006122589111, 7.590813636779785, 7.576281547546387, 7.38240909576416, 7.330124378204346, 7.433470249176025, 7.478808403015137, 7.310711860656738, 7.5868425369262695, 7.453286647796631, 7.456430435180664, 7.395186901092529, 7.409013748168945, 7.522997856140137, 7.40437126159668, 7.37633752822876, 7.346768379211426, 7.4506306648254395, 7.351933002471924, 7.481839656829834, 7.601630210876465, 7.386350154876709, 7.536299705505371, 7.397459983825684, 7.405510425567627, 7.529202938079834, 7.3788604736328125, 7.562841415405273]\n",
      "Testing lr: 1.00e+01\n",
      "[7.510835647583008, 7.543954372406006, 7.2871904373168945, 7.416365146636963, 7.389891147613525, 7.462158679962158, 7.27674674987793, 7.408138751983643, 7.443251132965088, 7.486937046051025, 7.417154312133789, 7.546848773956299, 7.456887722015381, 7.4538893699646, 7.360795974731445, 7.437274932861328, 7.415825366973877, 7.592033386230469, 7.286288261413574, 7.5019402503967285, 7.593943119049072, 7.377923965454102, 7.475200653076172, 7.560563087463379, 7.368378639221191, 7.322656631469727, 7.405280590057373, 7.382075309753418, 7.437457084655762, 7.35129451751709, 7.393403053283691, 7.493378162384033, 7.372378826141357, 7.4380598068237305, 7.602175235748291, 7.426663875579834, 7.414999485015869, 7.320932388305664, 7.334047794342041, 7.441740036010742, 7.475921630859375, 7.502402305603027, 7.406630992889404, 7.651307106018066, 7.3589887619018555, 7.42845344543457, 7.395742893218994, 7.440981864929199, 7.424570560455322, 7.354613780975342, 7.3529744148254395, 7.35757303237915, 7.415847301483154, 7.322805881500244, 7.393253803253174, 7.288459300994873, 7.404345512390137, 7.456690311431885, 7.536337375640869, 7.504348278045654, 7.45835542678833, 7.4193806648254395, 7.663136959075928, 7.455999851226807, 7.593510150909424, 7.358254432678223, 7.4107513427734375, 7.451706409454346, 7.457945823669434, 7.59618616104126, 7.440815448760986, 7.603568077087402, 7.493431091308594, 7.429647922515869, 7.414907932281494, 7.526615619659424, 7.464443683624268, 7.584112167358398, 7.276867389678955, 7.527798175811768, 7.533407688140869, 7.3958740234375, 7.437714099884033, 7.324563026428223, 7.553054332733154, 7.421561241149902, 7.395939350128174, 7.479255199432373, 7.474508285522461, 7.47588586807251, 7.481891632080078, 7.344686031341553, 7.454476833343506, 7.695372581481934, 7.574160575866699, 7.412580490112305, 7.410130500793457, 7.595020294189453, 7.414207935333252, 7.484292984008789]\n"
     ]
    }
   ],
   "source": [
    "lrs, lrs_losses, lrs_metric_avg, lrs_metric_var = explore_lrs(train_loader_optim,\n",
    "                                                              model_optim, \n",
    "                                                              optimizer_optim,\n",
    "                                                              args_optim,\n",
    "                                                              min_learning_rate_power=-6, \n",
    "                                                              max_learning_rate_power = 1,\n",
    "                                                              num_lrs=8,\n",
    "                                                              steps_per_lr=100) "
   ]
  },
  {
   "cell_type": "markdown",
   "metadata": {
    "id": "pDmkRbleNOVL"
   },
   "source": [
    "<details>\n",
    "<summary>Spoiler</summary>\n",
    "    \n",
    "```python\n",
    "lrs=[1.e-06, 1.e-05, 1.e-04, 1.e-03, 1.e-02, 1.e-01, 1.e+00, 1.e+01]\n",
    "lrs_losses=  [7.502097129821777, 7.22658634185791, 5.24326229095459, 1.7600191831588745, 1.4037541151046753, 2.136382579803467, 2.1029751300811768, 446.49951171875]\n",
    "lrs_metric_avg=[0.0017601490020751954, -0.005245075225830078, -0.041641921997070314, -0.07478624820709229, -0.007052739858627319, 0.04763659238815308, 0.03924872875213623, 9.939403522014619]\n",
    "lrs_metric_var=[0.0006510000222988311, 0.0004144988674492198, 0.000668689274974986, 0.013876865854565344, 0.001481160611942387, 0.3384368026131311, 0.8817071610439394, 2157852536609.2454]\n",
    "```    \n",
    "</details>"
   ]
  },
  {
   "cell_type": "code",
   "execution_count": 16,
   "metadata": {
    "id": "gpFPWNZXv670"
   },
   "outputs": [
    {
     "name": "stdout",
     "output_type": "stream",
     "text": [
      "lrs:  [1.e-06 1.e-05 1.e-04 1.e-03 1.e-02 1.e-01 1.e+00 1.e+01]\n",
      "lrs_losses:  [7.355217456817627, 7.284224510192871, 7.47169303894043, 7.5626420974731445, 7.4147725105285645, 7.483739376068115, 7.562841415405273, 7.484292984008789]\n",
      "lrs_metric_avg:  [3.931283950805664e-05, -0.002801680564880371, -0.001202411651611328, 0.0025773167610168455, 0.0008704972267150879, 0.00032034873962402346, 0.003146224021911621, 0.00025059223175048827]\n",
      "lrs_metric_var:  [0.0048708445146336266, 0.004597336728825781, 0.0038867057155369824, 0.003297552414663159, 0.003718218370147105, 0.0036459593281057546, 0.0037739820041390202, 0.0036769906688321275]\n"
     ]
    },
    {
     "data": {
      "image/png": "[encoded data removed]",
      "text/plain": [
       "<Figure size 1000x1500 with 3 Axes>"
      ]
     },
     "metadata": {},
     "output_type": "display_data"
    }
   ],
   "source": [
    "plot_eval(lrs, lrs_losses, lrs_metric_avg, lrs_metric_var)"
   ]
  },
  {
   "cell_type": "markdown",
   "metadata": {
    "id": "pVw14RZ9NOVO"
   },
   "source": [
    "## Optimize the training loop\n",
    "\n",
    "> Adapt the dataset transformations, batch_size & dataloader, lr & lr_scheduler, and optimizer in order to achieve better classification results in less time. \n",
    "\n",
    "> Change this training loop to include:\n",
    "> - a learning rate scheduler : https://pytorch.org/docs/stable/optim.html#how-to-adjust-learning-rate\n",
    "> - a strategy such as early stopping or patience : https://www.kaggle.com/code/akhileshrai/tutorial-early-stopping-vanilla-rnn-pytorch?scriptVersionId=26440051&cellId=10#4.-Early-Stopping\n",
    "\n",
    "> **Also think about changing the call to the function if you added arguments.**\n",
    "\n",
    "> For you, we added automatic mixed precision which will be seen in the next course\n",
    "\n",
    "> **BEFORE RUNNING, WE NEED TO REINITIALIZE THE MODEL, OPTIMIZER AND SCHEDULER FOR A FAIR FIGHT. Rewrite below the changes you have brought to them.**"
   ]
  },
  {
   "cell_type": "code",
   "execution_count": 17,
   "metadata": {
    "id": "hF-p2CCsNOVO"
   },
   "outputs": [],
   "source": [
    "model_optim = models.resnet18().to(args_optim['device'])\n",
    "model_optim.name = 'Resnet-18'\n",
    "optimizer_optim = torch.optim.SGD(model_optim.parameters(), args_optim['learning_rate'], args_optim['momentum'], args_optim['weight_decay'])\n",
    "scheduler_optim = None"
   ]
  },
  {
   "cell_type": "code",
   "execution_count": 18,
   "metadata": {
    "id": "q79Y1wzENOVQ"
   },
   "outputs": [],
   "source": [
    "def train_optim(train_loader, val_loader, model, optimizer, criterion, args):\n",
    "    '''\n",
    "    The default simple training loop\n",
    "    '''\n",
    "    train_losses = []\n",
    "    train_accuracies = []\n",
    "    val_losses = []\n",
    "    val_accuracies = []\n",
    "    time_start = time.time()\n",
    "    for epoch in range(args['epochs']):\n",
    "        print(\"Epoch \", epoch)\n",
    "        for i, (images, labels) in enumerate(train_loader):\n",
    "            # distribution of images and labels to all GPUs\n",
    "            images = images.to(args['device'], non_blocking=True)\n",
    "            labels = labels.to(args['device'], non_blocking=True)\n",
    "            \n",
    "            # Zero the parameter gradients\n",
    "            optimizer.zero_grad()\n",
    "\n",
    "            # Forward pass\n",
    "            outputs = model(images)\n",
    "            loss = criterion(outputs, labels)\n",
    "\n",
    "            # Backward pass\n",
    "            loss.backward()\n",
    "\n",
    "            # Optimize\n",
    "            optimizer.step()\n",
    "\n",
    "        # Evaluate at the end of the epoch on the train set\n",
    "        train_loss, train_accuracy = evaluate(train_loader, model, criterion, args)\n",
    "        print(\"\\t Train loss : \", train_loss, \"& Train accuracy : \", train_accuracy)\n",
    "        train_losses.append(train_loss)\n",
    "        train_accuracies.append(train_accuracy)                \n",
    "                \n",
    "        # Evaluate at the end of the epoch on the val set\n",
    "        val_loss, val_accuracy = evaluate(val_loader, model, criterion, args)\n",
    "        print(\"\\t Validation loss : \", val_loss, \"& Validation accuracy : \", val_accuracy)\n",
    "        val_losses.append(val_loss)\n",
    "        val_accuracies.append(val_accuracy)\n",
    "    duration = time.time() - time_start\n",
    "    print('Finished Training in:', duration, 'seconds with mean epoch duration:', duration/args['epochs'], ' seconds')\n",
    "    results = {'model':model,\n",
    "               'train_losses': train_losses,\n",
    "               'train_accuracies': train_accuracies,\n",
    "               'val_losses': val_losses,\n",
    "               'val_accuracies': val_accuracies,\n",
    "               'duration':duration}\n",
    "    return results\n"
   ]
  },
  {
   "cell_type": "markdown",
   "metadata": {
    "id": "Z_T19pdUNOVR"
   },
   "source": [
    "<details>\n",
    "<summary>Spoiler</summary>\n",
    "    \n",
    "```python\n",
    "def train_optim(train_loader, val_loader, model, optimizer, criterion, scheduler, args):\n",
    "    '''\n",
    "    The default simple training loop\n",
    "    '''\n",
    "    train_losses = []\n",
    "    train_accuracies = []\n",
    "    val_losses = []\n",
    "    val_accuracies = []\n",
    "    time_start = time.time()\n",
    "    scaler = GradScaler()\n",
    "    for epoch in range(args['epochs']):\n",
    "        print(\"Epoch \", epoch)\n",
    "        for i, (images, labels) in enumerate(train_loader):\n",
    "            # distribution of images and labels to all GPUs\n",
    "            images = images.to(args['device'], non_blocking=True)\n",
    "            labels = labels.to(args['device'], non_blocking=True)\n",
    "            \n",
    "            # Zero the parameter gradients\n",
    "            optimizer.zero_grad()\n",
    "\n",
    "            # Forward pass\n",
    "            with autocast():\n",
    "                outputs = model(images)\n",
    "                loss = criterion(outputs, labels)\n",
    "\n",
    "            # Backward pass\n",
    "            scaler.scale(loss).backward()\n",
    "            \n",
    "            # Optimize\n",
    "            scaler.step(optimizer)\n",
    "            \n",
    "            # Updates the scale for next iteration.\n",
    "            scaler.update()\n",
    "            \n",
    "            # Update Learning Rate scheduler, warning some schedulers are updated every epoch and not step.\n",
    "            if scheduler is not None:\n",
    "                scheduler.step()\n",
    "\n",
    "        # Evaluate at the end of the epoch\n",
    "        train_loss, train_accuracy = evaluate(train_loader, model, criterion, args)\n",
    "        print(\"\\t Train loss : \", train_loss, \"& Train accuracy : \", train_accuracy)\n",
    "        train_losses.append(train_loss)\n",
    "        train_accuracies.append(train_accuracy)                \n",
    "                \n",
    "        # Evaluate at the end of the epoch\n",
    "        val_loss, val_accuracy = evaluate(val_loader, model, criterion, args)\n",
    "        print(\"\\t Validation loss : \", val_loss, \"& Validation accuracy : \", val_accuracy)\n",
    "        val_losses.append(val_loss)\n",
    "        val_accuracies.append(val_accuracy)\n",
    "    duration = time.time() - time_start\n",
    "    print('Finished Training in:', duration, 'seconds with mean epoch duration:', duration/args['epochs'], ' seconds')\n",
    "    results = {'model':model,\n",
    "               'train_losses': train_losses,\n",
    "               'train_accuracies': train_accuracies,\n",
    "               'val_losses': val_losses,\n",
    "               'val_accuracies': val_accuracies,\n",
    "               'duration':duration}\n",
    "    return results\n",
    "```    \n",
    "</details>"
   ]
  },
  {
   "cell_type": "code",
   "execution_count": 19,
   "metadata": {
    "id": "Xodf9IltNOVT"
   },
   "outputs": [
    {
     "name": "stdout",
     "output_type": "stream",
     "text": [
      "Epoch  0\n",
      "\t Train loss :  4.738810093840584e-05 & Train accuracy :  53.927256722151085\n",
      "\t Validation loss :  0.0002704169601202011 & Validation accuracy :  50.98157051282052\n",
      "Epoch  1\n",
      "\t Train loss :  4.7616947995265946e-05 & Train accuracy :  63.06217989756722\n",
      "\t Validation loss :  0.0002701167541090399 & Validation accuracy :  57.291666666666664\n",
      "Epoch  2\n",
      "\t Train loss :  3.488099537207745e-05 & Train accuracy :  69.19414212548016\n",
      "\t Validation loss :  0.00026223031454719603 & Validation accuracy :  61.27804487179487\n",
      "Epoch  3\n",
      "\t Train loss :  3.112142439931631e-05 & Train accuracy :  74.73991677336748\n",
      "\t Validation loss :  0.0002509438490960747 & Validation accuracy :  62.95072115384615\n",
      "Epoch  4\n",
      "\t Train loss :  1.9771428924286738e-05 & Train accuracy :  78.81922215108835\n",
      "\t Validation loss :  0.00022786427871324122 & Validation accuracy :  63.531650641025635\n",
      "Epoch  5\n",
      "\t Train loss :  2.640901402628515e-05 & Train accuracy :  82.85651408450704\n",
      "\t Validation loss :  0.0002503469295334071 & Validation accuracy :  64.64342948717949\n",
      "Epoch  6\n",
      "\t Train loss :  1.7809383280109614e-05 & Train accuracy :  86.85179257362356\n",
      "\t Validation loss :  0.00024461778230033815 & Validation accuracy :  65.81530448717949\n",
      "Epoch  7\n",
      "\t Train loss :  1.5909272406133823e-05 & Train accuracy :  88.08418693982074\n",
      "\t Validation loss :  0.0002611337404232472 & Validation accuracy :  65.07411858974359\n",
      "Epoch  8\n",
      "\t Train loss :  1.3262543689052109e-05 & Train accuracy :  90.863076184379\n",
      "\t Validation loss :  0.0002698227181099355 & Validation accuracy :  64.9238782051282\n",
      "Epoch  9\n",
      "\t Train loss :  1.5900517610134557e-05 & Train accuracy :  91.61131562099872\n",
      "\t Validation loss :  0.0003084908821620047 & Validation accuracy :  65.33453525641025\n",
      "Finished Training in: 1024.341435432434 seconds with mean epoch duration: 102.43414354324341  seconds\n"
     ]
    }
   ],
   "source": [
    "results_optim = train_optim(train_loader_optim, val_loader_optim, model_optim, optimizer_optim, criterion_optim, args_optim)"
   ]
  },
  {
   "cell_type": "markdown",
   "metadata": {
    "id": "MqMatOlMhO8X"
   },
   "source": [
    "## Classification performances comparison\n",
    "\n",
    "> Take a look at\n",
    ">- the loss and accuracy evolution\n",
    ">- the difference in timings between the two runs"
   ]
  },
  {
   "cell_type": "code",
   "execution_count": 20,
   "metadata": {
    "id": "_ICf-vY3NOVU"
   },
   "outputs": [
    {
     "name": "stdout",
     "output_type": "stream",
     "text": [
      "Duration for default setup training: 1008.5593612194061\n",
      "Duration for optim setup training: 1024.341435432434\n"
     ]
    }
   ],
   "source": [
    "print(\"Duration for default setup training:\", results_default[\"duration\"])\n",
    "print(\"Duration for optim setup training:\", results_optim[\"duration\"])"
   ]
  },
  {
   "cell_type": "code",
   "execution_count": 21,
   "metadata": {
    "id": "upDC963kNOVV"
   },
   "outputs": [
    {
     "data": {
      "image/png": "[encoded data removed]",
      "text/plain": [
       "<Figure size 1000x1000 with 2 Axes>"
      ]
     },
     "metadata": {},
     "output_type": "display_data"
    }
   ],
   "source": [
    "compare_trainings(results_default, results_optim)"
   ]
  },
  {
   "cell_type": "markdown",
   "metadata": {
    "id": "weOLNx69hQh6"
   },
   "source": [
    "## Tensorboard\n",
    "Below we added a profiler and a logger for tensorboard. If you want to do it yourself in future codes, you can take example on the following documentations::\n",
    "- Pytorch : https://pytorch.org/tutorials/recipes/recipes/profiler_recipe.html\n",
    "- IDRIS : http://www.idris.fr/jean-zay/pre-post/jean-zay-tensorboard.html\n",
    "\n",
    "> Try to add another metric to the logger, for example the validation loss at each epoch."
   ]
  },
  {
   "cell_type": "code",
   "execution_count": 22,
   "metadata": {
    "id": "0qRmXet6NOVW"
   },
   "outputs": [],
   "source": [
    "def train_default_tensorboard(train_loader, val_loader, model, optimizer, criterion, args, exp_name):\n",
    "    log_dir = \"./logs/\"+exp_name\n",
    "    writer = SummaryWriter(log_dir)\n",
    "    \n",
    "    train_losses = []\n",
    "    train_accuracies = []\n",
    "    val_losses = []\n",
    "    val_accuracies = []\n",
    "    time_start = time.time()\n",
    "    with torch.profiler.profile(\n",
    "        schedule=torch.profiler.schedule(wait=1, warmup=1, active=3, repeat=2),\n",
    "        on_trace_ready=torch.profiler.tensorboard_trace_handler(log_dir),\n",
    "        record_shapes=True,\n",
    "        profile_memory=True,\n",
    "        with_stack=True\n",
    "    ) as prof:\n",
    "        for epoch in range(args['epochs']):\n",
    "            print(\"Epoch \", epoch)\n",
    "            for i, (images, labels) in enumerate(train_loader):\n",
    "                # distribution of images and labels to all GPUs\n",
    "                images = images.to(args['device'], non_blocking=True)\n",
    "                labels = labels.to(args['device'], non_blocking=True)\n",
    "\n",
    "                # Zero the parameter gradients\n",
    "                optimizer.zero_grad()\n",
    "\n",
    "                # Forward pass\n",
    "                outputs = model(images)\n",
    "                loss = criterion(outputs, labels)\n",
    "                \n",
    "                # Log a scalar (loss)\n",
    "                writer.add_scalar(\"Loss/train\", loss, i+epoch*len(train_loader))\n",
    "                \n",
    "                # Backward pass\n",
    "                loss.backward()\n",
    "\n",
    "                # Optimize\n",
    "                optimizer.step()\n",
    "                \n",
    "                # Indicate to profiler when a step is over\n",
    "                prof.step()\n",
    "                \n",
    "            # Evaluate at the end of the epoch on the train set\n",
    "            train_loss, train_accuracy = evaluate(train_loader, model, criterion, args)\n",
    "            print(\"\\t Train loss : \", train_loss, \"& Train accuracy : \", train_accuracy)\n",
    "            train_losses.append(train_loss)\n",
    "            train_accuracies.append(train_accuracy)                \n",
    "\n",
    "            # Evaluate at the end of the epoch on the val set\n",
    "            val_loss, val_accuracy = evaluate(val_loader, model, criterion, args)\n",
    "            print(\"\\t Validation loss : \", val_loss, \"& Validation accuracy : \", val_accuracy)\n",
    "            val_losses.append(val_loss)\n",
    "            val_accuracies.append(val_accuracy)\n",
    "    duration = time.time() - time_start\n",
    "    print('Finished Training in:', duration, 'seconds with mean epoch duration:', duration/args['epochs'], ' seconds')\n",
    "    results = {'model':model,\n",
    "               'train_losses': train_losses,\n",
    "               'train_accuracies': train_accuracies,\n",
    "               'val_losses': val_losses,\n",
    "               'val_accuracies': val_accuracies,\n",
    "               'duration':duration}\n",
    "    return results"
   ]
  },
  {
   "cell_type": "code",
   "execution_count": 23,
   "metadata": {
    "id": "mAPz5qdYNOVX"
   },
   "outputs": [
    {
     "name": "stdout",
     "output_type": "stream",
     "text": [
      "Epoch  0\n"
     ]
    },
    {
     "name": "stderr",
     "output_type": "stream",
     "text": [
      "STAGE:2023-04-02 13:57:18 101710:101710 ActivityProfilerController.cpp:311] Completed Stage: Warm Up\n",
      "[W CPUAllocator.cpp:235] Memory block of unknown size was allocated before the profiling started, profiler results will not include the deallocation event\n",
      "STAGE:2023-04-02 13:57:18 101710:101710 ActivityProfilerController.cpp:317] Completed Stage: Collection\n",
      "STAGE:2023-04-02 13:57:18 101710:101710 ActivityProfilerController.cpp:321] Completed Stage: Post Processing\n",
      "STAGE:2023-04-02 13:57:19 101710:101710 ActivityProfilerController.cpp:311] Completed Stage: Warm Up\n",
      "STAGE:2023-04-02 13:57:19 101710:101710 ActivityProfilerController.cpp:317] Completed Stage: Collection\n",
      "STAGE:2023-04-02 13:57:19 101710:101710 ActivityProfilerController.cpp:321] Completed Stage: Post Processing\n"
     ]
    },
    {
     "name": "stdout",
     "output_type": "stream",
     "text": [
      "\t Train loss :  9.207497896568384e-06 & Train accuracy :  92.55761843790012\n",
      "\t Validation loss :  0.0003348804311826825 & Validation accuracy :  63.86217948717948\n",
      "Finished Training in: 92.4570369720459 seconds with mean epoch duration: 92.4570369720459  seconds\n"
     ]
    }
   ],
   "source": [
    "args[\"epochs\"] = 1\n",
    "_ = train_default_tensorboard(train_loader, val_loader, model, optimizer, criterion, args, \"default_perf\")"
   ]
  },
  {
   "cell_type": "code",
   "execution_count": 26,
   "metadata": {
    "id": "VlUFsWoVNOVa",
    "tags": []
   },
   "outputs": [
    {
     "name": "stdout",
     "output_type": "stream",
     "text": [
      "The tensorboard extension is already loaded. To reload it, use:\n",
      "  %reload_ext tensorboard\n"
     ]
    },
    {
     "data": {
      "text/plain": [
       "Reusing TensorBoard on port 6006 (pid 16882), started 0:00:52 ago. (Use '!kill 16882' to kill it.)"
      ]
     },
     "metadata": {},
     "output_type": "display_data"
    },
    {
     "data": {
      "text/html": [
       "\n",
       "      <iframe id=\"tensorboard-frame-c4da537c1651ddae\" width=\"100%\" height=\"800\" frameborder=\"0\">\n",
       "      </iframe>\n",
       "      <script>\n",
       "        (function() {\n",
       "          const frame = document.getElementById(\"tensorboard-frame-c4da537c1651ddae\");\n",
       "          const url = new URL(\"/\", window.location);\n",
       "          const port = 6006;\n",
       "          if (port) {\n",
       "            url.port = port;\n",
       "          }\n",
       "          frame.src = url;\n",
       "        })();\n",
       "      </script>\n",
       "    "
      ],
      "text/plain": [
       "<IPython.core.display.HTML object>"
      ]
     },
     "metadata": {},
     "output_type": "display_data"
    }
   ],
   "source": [
    "# Load the TensorBoard notebook extension\n",
    "#!pip install torch_tb_profiler\n",
    "%load_ext tensorboard\n",
    "%tensorboard --logdir logs"
   ]
  },
  {
   "cell_type": "code",
   "execution_count": null,
   "metadata": {},
   "outputs": [],
   "source": []
  },
  {
   "cell_type": "code",
   "execution_count": null,
   "metadata": {},
   "outputs": [],
   "source": []
  }
 ],
 "metadata": {
  "accelerator": "GPU",
  "colab": {
   "provenance": []
  },
  "gpuClass": "standard",
  "kernelspec": {
   "display_name": "fidle23",
   "language": "python",
   "name": "fidle23"
  },
  "language_info": {
   "codemirror_mode": {
    "name": "ipython",
    "version": 3
   },
   "file_extension": ".py",
   "mimetype": "text/x-python",
   "name": "python",
   "nbconvert_exporter": "python",
   "pygments_lexer": "ipython3",
   "version": "3.9.16"
  }
 },
 "nbformat": 4,
 "nbformat_minor": 4
}
