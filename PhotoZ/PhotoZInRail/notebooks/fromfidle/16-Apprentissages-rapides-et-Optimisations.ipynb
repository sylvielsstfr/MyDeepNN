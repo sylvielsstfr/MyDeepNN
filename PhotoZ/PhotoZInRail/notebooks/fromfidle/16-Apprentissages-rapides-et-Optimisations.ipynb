{
 "cells": [
  {
   "cell_type": "markdown",
   "metadata": {
    "id": "EBL97zOSNOUb"
   },
   "source": [
    "# **Practice lab : Optimize your training process**"
   ]
  },
  {
   "cell_type": "markdown",
   "metadata": {
    "id": "wmsmK2lGelCE"
   },
   "source": [
    "## Introduction\n",
    "\n",
    "This Lab takes place as a pratical exercice of the [fidle](https://fidle.cnrs.fr/) online course N°16.\n",
    "\n",
    "\n",
    "The goal of this notebook is to go through a typical deep learning model training. We will see what can be changed to optimize this training setup but also good practices to make more efficient experiments.\n",
    "\n",
    "\n",
    "This notebook makes use of:\n",
    "- The CIFAR10 dataset\n",
    "- A Resnet model\n",
    "- Pytorch\n",
    "- A GPU (the notebook can be ran on Jean-Zay if you have an account, on Google collab with a 16go gpu or at home with a dedicated gpu by scaling down the batch_size)\n",
    "\n",
    "In particular we will work on:\n",
    "- the dataloader strategy used to load data\n",
    "- the model initial weights, in particular using a pretrained model\n",
    "- the learning rate and learning rate scheduler\n",
    "- the optimizer\n",
    "- visualizing and comparing results using python, tensorboard\n",
    "- various good practices/reminders\n",
    "\n",
    "> First, you can do a complete execution of the notebook.\n",
    "\n",
    "> **Then comeback from the start and follow the instructions to edit various components for better performance. You can also change them during the first execution if you have some intuitions about what should be changed and how.**\n",
    "\n",
    "> **In order to compare performance, only change the xxx_optim variables which are the one you will use in your optimized training**"
   ]
  },
  {
   "cell_type": "code",
   "execution_count": 1,
   "metadata": {
    "id": "UrJW8d_lqZ-l"
   },
   "outputs": [],
   "source": [
    "#!nvidia-smi"
   ]
  },
  {
   "cell_type": "markdown",
   "metadata": {
    "id": "527LDYwLf9gB"
   },
   "source": [
    "## Few imports"
   ]
  },
  {
   "cell_type": "code",
   "execution_count": 2,
   "metadata": {
    "id": "mPEZLMywejMG"
   },
   "outputs": [
    {
     "name": "stderr",
     "output_type": "stream",
     "text": [
      "/Users/dagoret/anaconda3/envs/fidle23/lib/python3.9/site-packages/torchvision/io/image.py:13: UserWarning: Failed to load image Python extension: dlopen(/Users/dagoret/anaconda3/envs/fidle23/lib/python3.9/site-packages/torchvision/image.so, 6): Library not loaded: @rpath/libjpeg.8.dylib\n",
      "  Referenced from: /Users/dagoret/anaconda3/envs/fidle23/lib/python3.9/site-packages/torchvision/image.so\n",
      "  Reason: image not found\n",
      "  warn(f\"Failed to load image Python extension: {e}\")\n"
     ]
    }
   ],
   "source": [
    "import os\n",
    "import time\n",
    "import random\n",
    "import numpy as np\n",
    "\n",
    "import torch\n",
    "from torch.cuda.amp import autocast, GradScaler\n",
    "from torch.optim.lr_scheduler import _LRScheduler\n",
    "\n",
    "import torchvision\n",
    "import torchvision.transforms as transforms\n",
    "import torchvision.models as models\n",
    "from torchvision.models.resnet import ResNet18_Weights\n",
    "\n",
    "import matplotlib.pyplot as plt\n",
    "\n",
    "from datetime import datetime\n",
    "from torch.utils.tensorboard import SummaryWriter"
   ]
  },
  {
   "cell_type": "markdown",
   "metadata": {
    "id": "G_DozO12fv8o"
   },
   "source": [
    "## Fix random seeds\n",
    "In order to have experiment reproductibility, it is a good practice to fix the random number generators seeds.\n",
    "\n",
    "Warning : there might be more seeds to set than you expect! Maths,visualization,transformations libraries, ..."
   ]
  },
  {
   "cell_type": "code",
   "execution_count": 3,
   "metadata": {
    "id": "Y9jOl-D8ejWw"
   },
   "outputs": [
    {
     "data": {
      "text/plain": [
       "<torch._C.Generator at 0x13b179ab0>"
      ]
     },
     "execution_count": 3,
     "metadata": {},
     "output_type": "execute_result"
    }
   ],
   "source": [
    "random.seed(123)\n",
    "np.random.seed(123)\n",
    "torch.manual_seed(123)"
   ]
  },
  {
   "cell_type": "markdown",
   "metadata": {
    "id": "9nZlyar5NOUr"
   },
   "source": [
    "## Some functions\n",
    "\n",
    "Below we define a few functions that will be used further in the notebook. \n",
    "\n",
    "**Do not change them unless you know what and why you are doing it.**"
   ]
  },
  {
   "cell_type": "code",
   "execution_count": 4,
   "metadata": {
    "id": "JFQtFuDWNOUt"
   },
   "outputs": [],
   "source": [
    "def iter_dataloader(dataloader, epochs, args):\n",
    "    for epoch in range(epochs):\n",
    "        for i, (images, labels) in enumerate(dataloader):\n",
    "            # distribution of images and labels to all GPUs\n",
    "            images = images.to(args['device'], non_blocking=True)\n",
    "            labels = labels.to(args['device'], non_blocking=True)\n",
    "            \n",
    "def evaluate(dataloader, model, criterion, args):\n",
    "    '''\n",
    "    A simple loop for evaluation\n",
    "    '''\n",
    "    loss = 0\n",
    "    correct = 0\n",
    "    total = 0\n",
    "    with torch.no_grad():\n",
    "        for i, (images, labels) in enumerate(dataloader):\n",
    "            # distribution of images and labels to all GPUs\n",
    "            images = images.to(args['device'], non_blocking=True)\n",
    "            labels = labels.to(args['device'], non_blocking=True)\n",
    "            outputs = model(images)\n",
    "            loss = criterion(outputs,labels)\n",
    "            _, predicted = torch.max(outputs.data, 1)\n",
    "\n",
    "            loss += loss\n",
    "            total += labels.size(0)\n",
    "            correct += (predicted == labels).sum().item()\n",
    "    loss = (loss/total).item()\n",
    "    accuracy = (correct/total)*100\n",
    "    return loss, accuracy\n",
    "\n",
    "def train_default(train_loader, val_loader, model, optimizer, criterion, args):\n",
    "    '''\n",
    "    The default simple training loop\n",
    "    '''\n",
    "    train_losses = []\n",
    "    train_accuracies = []\n",
    "    val_losses = []\n",
    "    val_accuracies = []\n",
    "    time_start = time.time()\n",
    "    for epoch in range(args['epochs']):\n",
    "        print(\"Epoch \", epoch)\n",
    "        for i, (images, labels) in enumerate(train_loader):\n",
    "            # distribution of images and labels to all GPUs\n",
    "            images = images.to(args['device'], non_blocking=True)\n",
    "            labels = labels.to(args['device'], non_blocking=True)\n",
    "            \n",
    "            # Zero the parameter gradients\n",
    "            optimizer.zero_grad()\n",
    "\n",
    "            # Forward pass\n",
    "            outputs = model(images)\n",
    "            loss = criterion(outputs, labels)\n",
    "\n",
    "            # Backward pass\n",
    "            loss.backward()\n",
    "\n",
    "            # Optimize\n",
    "            optimizer.step()\n",
    "\n",
    "        # Evaluate at the end of the epoch on the train set\n",
    "        train_loss, train_accuracy = evaluate(train_loader, model, criterion, args)\n",
    "        print(\"\\t Train loss : \", train_loss, \"& Train accuracy : \", train_accuracy)\n",
    "        train_losses.append(train_loss)\n",
    "        train_accuracies.append(train_accuracy)                \n",
    "                \n",
    "        # Evaluate at the end of the epoch on the val set\n",
    "        val_loss, val_accuracy = evaluate(val_loader, model, criterion, args)\n",
    "        print(\"\\t Validation loss : \", val_loss, \"& Validation accuracy : \", val_accuracy)\n",
    "        val_losses.append(val_loss)\n",
    "        val_accuracies.append(val_accuracy)\n",
    "        \n",
    "    duration = time.time() - time_start\n",
    "    print('Finished Training in:', duration, 'seconds with mean epoch duration:', duration/args['epochs'], ' seconds')\n",
    "    results = {'model':model,\n",
    "               'train_losses': train_losses,\n",
    "               'train_accuracies': train_accuracies,\n",
    "               'val_losses': val_losses,\n",
    "               'val_accuracies': val_accuracies,\n",
    "               'duration':duration}\n",
    "    return results\n",
    "\n",
    "def explore_lrs(dataloader, \n",
    "                model, \n",
    "                optimizer,\n",
    "                args,\n",
    "                min_learning_rate_power=-8, \n",
    "                max_learning_rate_power = 1,\n",
    "                num_lrs=10,\n",
    "                steps_per_lr=50):\n",
    "  \n",
    "    lrs = np.logspace(min_learning_rate_power, max_learning_rate_power, num=num_lrs)\n",
    "    print(\"Learning rate space : \", lrs)\n",
    "    model_init_state = model.state_dict()\n",
    "\n",
    "    lrs_losses, lrs_metric_avg, lrs_metric_var =[], [],[]\n",
    "  \n",
    "    # Iterate through learning rates to test\n",
    "    for lr in lrs:\n",
    "        print(\"Testing lr:\", '{:.2e}'.format(lr))\n",
    "        # Reset model\n",
    "        model.load_state_dict(model_init_state)\n",
    "\n",
    "        # Change learning rate in optimizer\n",
    "        for group in optimizer.param_groups:\n",
    "            group['lr'] = lr\n",
    "\n",
    "        # Reset metric tracking\n",
    "        lr_losses =[]\n",
    "\n",
    "        # Training steps\n",
    "        for step in range(steps_per_lr):\n",
    "            images, labels = next(iter(dataloader))\n",
    "            # distribution of images and labels to all GPUs\n",
    "            images = images.to(args['device'], non_blocking=True)\n",
    "            labels = labels.to(args['device'], non_blocking=True)\n",
    "            optimizer.zero_grad()\n",
    "            outputs = model(images)\n",
    "            loss = criterion(outputs, labels)\n",
    "            loss.backward()\n",
    "            optimizer.step()\n",
    "            lr_losses.append(loss.item())\n",
    "        print(lr_losses)\n",
    "\n",
    "        # Compute loss average for lr\n",
    "        lr_loss_avg = np.mean(lr_losses) \n",
    "        lr_loss_avg = lr_losses[-1]\n",
    "\n",
    "        lrs_losses.append(lr_loss_avg)\n",
    "\n",
    "        # Compute metric (discounted average gradient of the loss)\n",
    "        lr_gradients = np.gradient(lr_losses)\n",
    "        lr_metric_avg = np.mean(lr_gradients)\n",
    "        lr_metric_var = np.var(lr_gradients)\n",
    "        lrs_metric_avg.append(lr_metric_avg)    \n",
    "        lrs_metric_var.append(lr_metric_var)\n",
    "        model.load_state_dict(model_init_state)\n",
    "\n",
    "    return lrs, lrs_losses, lrs_metric_avg, lrs_metric_var\n",
    "\n",
    "def plot_eval(lrs, lrs_losses, lrs_metric_avg, lrs_metric_var):\n",
    "    print(\"lrs: \", lrs)\n",
    "    print(\"lrs_losses: \", lrs_losses)\n",
    "    print(\"lrs_metric_avg: \", lrs_metric_avg)\n",
    "    print(\"lrs_metric_var: \", lrs_metric_var)\n",
    "    fig, axs = plt.subplots(3, figsize=(10,15))\n",
    "\n",
    "    axs[0].plot(lrs, lrs_losses, color='blue', label=\"losses_avg\")\n",
    "    axs[0].set_xlabel('learning rate', fontsize=15)\n",
    "    axs[0].set_ylabel('Loss', fontsize=15)\n",
    "    axs[0].set_xscale('log')\n",
    "    axs[0].set_yscale('symlog')\n",
    "    axs[0].set_ylim([0,  min(lrs_losses)*100])\n",
    "\n",
    "    axs[1].plot(lrs, lrs_metric_avg, color='red', label=\"discounted_metric_avg\")\n",
    "    axs[1].hlines(y=0, xmin=lrs[0], xmax=lrs[-1], linewidth=2, color='black')\n",
    "    axs[1].set_xlabel('learning rate', fontsize=15)\n",
    "    axs[1].set_ylabel('Metric average', fontsize=15)\n",
    "    axs[1].set_xscale('log')\n",
    "    axs[1].set_yscale('symlog')\n",
    "    axs[1].set_ylim([-abs(lrs_metric_avg[0])*100, abs(lrs_metric_avg[0])*100])\n",
    "\n",
    "    axs[2].plot(lrs, lrs_metric_var, color='green', label=\"discounted_metric_var\")\n",
    "    axs[2].set_xlabel('learning rate', fontsize=15)\n",
    "    axs[2].set_ylabel('Metric variance', fontsize=15)\n",
    "    axs[2].set_xscale('log')\n",
    "    axs[2].set_yscale('symlog')\n",
    "    axs[2].set_ylim([0, min(lrs_metric_var)*1000])\n",
    "\n",
    "    plt.show()\n",
    "    \n",
    "def compare_trainings(results_default, results_optim):\n",
    "    fig, axs = plt.subplots(2, figsize=(10,10))\n",
    "    fig.suptitle('Performance comparison', fontsize=18)    \n",
    "    \n",
    "    train_alpha = 0.5\n",
    "    \n",
    "    # Validation losses    \n",
    "    axs[0].plot(range(len(results_default['val_losses'])), results_default['val_losses'], color='blue', label=\"default val\")\n",
    "    axs[0].plot(range(len(results_optim['val_losses'])), results_optim['val_losses'], color='red', label=\"optim val\")\n",
    "\n",
    "    # Training losses    \n",
    "    axs[0].plot(range(len(results_default['train_losses'])), results_default['train_losses'], color='blue', label=\"default train\", linestyle='--', alpha = train_alpha)\n",
    "    axs[0].plot(range(len(results_optim['train_losses'])), results_optim['train_losses'], color='red', label=\"optim train\", linestyle='--', alpha = train_alpha)\n",
    "       \n",
    "    axs[0].set_xlabel('Epochs', fontsize=14)\n",
    "    axs[0].set_ylabel('Loss', fontsize=14)\n",
    "    axs[0].set_xscale('linear')\n",
    "    axs[0].set_yscale('linear')\n",
    "    max_loss = max(results_default['train_losses']+results_default['val_losses']+results_optim['train_losses']+results_optim['val_losses'])\n",
    "    axs[0].set_ylim([0,  max_loss])\n",
    "    axs[0].legend(loc=\"upper right\")\n",
    "    \n",
    "    # Validation accuracies\n",
    "    axs[1].plot(range(len(results_default['val_accuracies'])), results_default['val_accuracies'], color='blue', label=\"default val\")\n",
    "    axs[1].plot(range(len(results_optim['val_accuracies'])), results_optim['val_accuracies'], color='red', label=\"optim val\")\n",
    "\n",
    "    # Training default accuracies\n",
    "    axs[1].plot(range(len(results_default['train_accuracies'])), results_default['train_accuracies'], color='blue', label=\"default train\", linestyle='--', alpha=train_alpha)\n",
    "    axs[1].plot(range(len(results_optim['train_accuracies'])), results_optim['train_accuracies'], color='red', label=\"optim train\", linestyle='--', alpha=train_alpha)\n",
    "    \n",
    "    axs[1].set_xlabel('Epochs', fontsize=15)\n",
    "    axs[1].set_ylabel('Accuracy', fontsize=15)\n",
    "    axs[1].set_xscale('linear')\n",
    "    axs[1].set_yscale('linear')\n",
    "    axs[1].set_ylim([0,  100])\n",
    "    axs[1].legend(loc=\"lower right\")"
   ]
  },
  {
   "cell_type": "markdown",
   "metadata": {
    "id": "USjwbaqvfvT9"
   },
   "source": [
    "## Training configuration variables\n",
    "For the first run, you can let all the values given by default.\n",
    "For the optimized run, you could changing some parameters. \n",
    ">In particular, you will have to change :\n",
    ">- the batch_size\n",
    ">- the learning rate"
   ]
  },
  {
   "cell_type": "code",
   "execution_count": 5,
   "metadata": {
    "id": "vJRP94hFejjg"
   },
   "outputs": [],
   "source": [
    "args = {\n",
    "    'batch_size':64,\n",
    "    'epochs': 10,\n",
    "    'image_size': 224,\n",
    "    'learning_rate': 0.001,\n",
    "    'momentum': 0.9,\n",
    "    'weight_decay': 0.0001,\n",
    "    'download': True,\n",
    "    'device': torch.device(\"cuda\") if torch.cuda.is_available() else torch.device(\"cpu\"),\n",
    "    'dataset_root_dir': os.getcwd(),\n",
    "}\n",
    "\n",
    "#################################################\n",
    "############# Modify the code below #############\n",
    "#################################################\n",
    "args_optim = {\n",
    "    'batch_size':64,\n",
    "    'epochs': 10,\n",
    "    'image_size': 224,\n",
    "    'learning_rate': 0.001,\n",
    "    'momentum': 0.9,\n",
    "    'weight_decay': 0.0001,\n",
    "    'download': True,\n",
    "    'device': torch.device(\"cuda\") if torch.cuda.is_available() else torch.device(\"cpu\"),\n",
    "    'dataset_root_dir': os.getcwd(), \n",
    "}"
   ]
  },
  {
   "cell_type": "markdown",
   "metadata": {
    "id": "pfQP_RbKAU6N"
   },
   "source": [
    "<details>\n",
    "<summary>Spoiler (click to reveal)</summary>\n",
    "\n",
    "```python\n",
    "args_optim = {\n",
    "    'batch_size':512,\n",
    "    'epochs': 10,\n",
    "    'image_size': 224,\n",
    "    'learning_rate': 0.001,\n",
    "    'momentum': 0.9,\n",
    "    'weight_decay': 0.01,\n",
    "    'download': True,\n",
    "    'device': torch.device(\"cuda\") if torch.cuda.is_available() else torch.device(\"cpu\"),\n",
    "    'dataset_root_dir': os.getcwd(), \n",
    "}\n",
    "```    \n",
    "</details>"
   ]
  },
  {
   "cell_type": "markdown",
   "metadata": {
    "id": "b5CbvfOAfnQ9"
   },
   "source": [
    "## Data transformation and augmentation\n",
    "Below, we define the transformations to apply to each image when loaded.\n",
    "It can serve three main purposes:\n",
    "- having the data in the desired format for the model (systematic transformation)\n",
    "- correcting/normalizing the data (systematic transformation)\n",
    "- artificially increasing the amount of data by transforming the data  (random transformation)\n",
    "\n",
    "Warning : the evaluation dataset should always be the same so you should not apply random transformations to it.\n",
    "\n",
    "> Enrich the transformations by using the provided by torchvision : https://pytorch.org/vision/0.12/transforms.html\n",
    "\n",
    "> **Change transform_optim and val_transform_optim only**"
   ]
  },
  {
   "cell_type": "code",
   "execution_count": 6,
   "metadata": {
    "id": "I8d51hBifiDH"
   },
   "outputs": [],
   "source": [
    "transform = transforms.Compose([transforms.ToTensor()])     # convert the PIL Image to a tensor\n",
    "val_transform = transforms.Compose([transforms.ToTensor()]) # convert the PIL Image to a tensor\n",
    "                \n",
    "#################################################\n",
    "############# Modify the code below #############\n",
    "#################################################\n",
    "transform_optim = transforms.Compose([transforms.ToTensor()])     # convert the PIL Image to a tensor\n",
    "val_transform_optim = transforms.Compose([transforms.ToTensor()]) # convert the PIL Image to a tensor"
   ]
  },
  {
   "cell_type": "markdown",
   "metadata": {
    "id": "VZp4xMdxrJs9"
   },
   "source": [
    "<details>\n",
    "<summary>Spoiler</summary>\n",
    "\n",
    "    \n",
    "```python\n",
    "transform_optim = transforms.Compose([ \n",
    "    transforms.RandomHorizontalFlip(),              # Horizontal Flip - Data Augmentation\n",
    "    transforms.ToTensor()                          # convert the PIL Image to a tensor\n",
    "    ])\n",
    "\n",
    "val_transform_optim = transforms.Compose([\n",
    "                transforms.ToTensor()                           # convert the PIL Image to a tensor\n",
    "                ])\n",
    "```    \n",
    "</details>"
   ]
  },
  {
   "cell_type": "markdown",
   "metadata": {
    "id": "rYIkzw02fqnd"
   },
   "source": [
    "## Dataset\n",
    "In the cell below, we define the dataset.\n",
    "Here we have two subset:\n",
    "- a training subset for model optimization\n",
    "- a test subset for model evaluation"
   ]
  },
  {
   "cell_type": "code",
   "execution_count": 7,
   "metadata": {
    "id": "RImKrDEwe-Y7"
   },
   "outputs": [
    {
     "name": "stdout",
     "output_type": "stream",
     "text": [
      "Downloading https://www.cs.toronto.edu/~kriz/cifar-10-python.tar.gz to /Users/dagoret/MacOSX/Fidle2023/fidle-tp/TPsupp/CIFAR_10/cifar-10-python.tar.gz\n"
     ]
    },
    {
     "data": {
      "application/vnd.jupyter.widget-view+json": {
       "model_id": "89721a7045c54a36b1f4adb2d6d79316",
       "version_major": 2,
       "version_minor": 0
      },
      "text/plain": [
       "  0%|          | 0/170498071 [00:00<?, ?it/s]"
      ]
     },
     "metadata": {},
     "output_type": "display_data"
    },
    {
     "name": "stdout",
     "output_type": "stream",
     "text": [
      "Extracting /Users/dagoret/MacOSX/Fidle2023/fidle-tp/TPsupp/CIFAR_10/cifar-10-python.tar.gz to /Users/dagoret/MacOSX/Fidle2023/fidle-tp/TPsupp/CIFAR_10\n",
      "Files already downloaded and verified\n",
      "Files already downloaded and verified\n",
      "Files already downloaded and verified\n"
     ]
    }
   ],
   "source": [
    "train_dataset = torchvision.datasets.CIFAR10(root=args['dataset_root_dir']+'/CIFAR_10', train=True, download=args['download'], transform=transform)\n",
    "\n",
    "val_dataset = torchvision.datasets.CIFAR10(root=args['dataset_root_dir']+'/CIFAR_10', train=False, download=args['download'], transform=val_transform)\n",
    "\n",
    "train_dataset_optim = torchvision.datasets.CIFAR10(root=args_optim['dataset_root_dir']+'/CIFAR_10', train=True, download=args_optim['download'], transform=transform_optim)\n",
    "\n",
    "val_dataset_optim = torchvision.datasets.CIFAR10(root=args_optim['dataset_root_dir']+'/CIFAR_10', train=False, download=args_optim['download'], transform=val_transform_optim)"
   ]
  },
  {
   "cell_type": "markdown",
   "metadata": {
    "id": "tFMn2WRHgDko"
   },
   "source": [
    "## Dataloader\n",
    "The DataLoader class in PyTorch is responsible for loading and batching data from a dataset object, such as a PyTorch tensor or a NumPy array.\n",
    "It works by creating a Python iterable over the dataset and yielding a batch of data at each iteration.\n",
    "\n",
    "Those batches will be fed to the model for training or inference.\n",
    "\n",
    "The DataLoader class also provides various options for shuffling, batching, and parallelizing the data loading process, making it a useful tool for efficient and flexible data handling in PyTorch.\n",
    "> Take a look at the DataLoader documentation : https://pytorch.org/docs/stable/data.html#torch.utils.data.DataLoader\n",
    "\n",
    "> Optimize the dataloader by taking advantage of parallelism and smart use of computational ressources :\n",
    ">- batch_size\n",
    ">- pin_memory\n",
    ">- prefetch_factor \n",
    ">- persistent_workers \n",
    ">- num_workers"
   ]
  },
  {
   "cell_type": "code",
   "execution_count": 8,
   "metadata": {
    "id": "r9Mp67_fgIGN"
   },
   "outputs": [],
   "source": [
    "train_loader = torch.utils.data.DataLoader(dataset=train_dataset,\n",
    "                                           batch_size=args['batch_size'],\n",
    "                                           shuffle=True,\n",
    "                                           drop_last=True)\n",
    "\n",
    "val_loader = torch.utils.data.DataLoader(dataset=val_dataset,    \n",
    "                                         batch_size=args['batch_size'],\n",
    "                                         shuffle=False,\n",
    "                                         drop_last=True)\n",
    "\n",
    "#################################################\n",
    "############# Modify the code below #############\n",
    "#################################################\n",
    "train_loader_optim = torch.utils.data.DataLoader(dataset=train_dataset,\n",
    "                                           batch_size=args_optim['batch_size'],\n",
    "                                           shuffle=True,\n",
    "                                           drop_last=True)\n",
    "\n",
    "val_loader_optim = torch.utils.data.DataLoader(dataset=val_dataset,    \n",
    "                                         batch_size=args_optim['batch_size'],\n",
    "                                         shuffle=False,\n",
    "                                         drop_last=True)\n"
   ]
  },
  {
   "cell_type": "code",
   "execution_count": 9,
   "metadata": {
    "id": "mvMxD20VNOU8"
   },
   "outputs": [
    {
     "name": "stdout",
     "output_type": "stream",
     "text": [
      "28.1 s ± 0 ns per loop (mean ± std. dev. of 1 run, 1 loop each)\n",
      "26.3 s ± 0 ns per loop (mean ± std. dev. of 1 run, 1 loop each)\n"
     ]
    }
   ],
   "source": [
    "%timeit -r 1 -n 1 iter_dataloader(train_loader, 1, args)\n",
    "%timeit -r 1 -n 1 iter_dataloader(train_loader_optim, 1, args_optim)"
   ]
  },
  {
   "cell_type": "markdown",
   "metadata": {
    "id": "Vegex5s0gIVF"
   },
   "source": [
    "<details>\n",
    "<summary>Spoiler</summary>\n",
    "WIP : Quelques explications\n",
    "\n",
    "```python\n",
    "train_loader_optim = torch.utils.data.DataLoader(dataset=train_dataset_optim,\n",
    "                                                 batch_size=args_optim['batch_size'],\n",
    "                                                 shuffle=True,\n",
    "                                                 drop_last=True,\n",
    "                                                 num_workers=10,\n",
    "                                                 persistent_workers=True,\n",
    "                                                 pin_memory=True,\n",
    "                                                 prefetch_factor=10)\n",
    "\n",
    "val_loader_optim = torch.utils.data.DataLoader(dataset=val_dataset_optim,    \n",
    "                                               batch_size=args_optim['batch_size'],\n",
    "                                               shuffle=False,\n",
    "                                               drop_last=True,\n",
    "                                               num_workers=10,\n",
    "                                               persistent_workers=True,\n",
    "                                               pin_memory=True,\n",
    "                                               prefetch_factor=10)\n",
    "```    \n",
    "</details>"
   ]
  },
  {
   "cell_type": "markdown",
   "metadata": {
    "id": "2_yVrvKvgIt0"
   },
   "source": [
    "## Model\n",
    "\n",
    "> Do not forget to verify that you use the right compute ressources for your model\n",
    "\n",
    "> By default, the model resnet18 is initialized with random weights but you could try using a pretrained model : https://pytorch.org/vision/main/models/generated/torchvision.models.resnet18.html#torchvision.models.ResNet18_Weights"
   ]
  },
  {
   "cell_type": "code",
   "execution_count": 10,
   "metadata": {
    "id": "NCQgZOx6gI6Q"
   },
   "outputs": [
    {
     "name": "stdout",
     "output_type": "stream",
     "text": [
      "Stock model on device: cpu\n",
      "Optimized model on device: cpu\n"
     ]
    }
   ],
   "source": [
    "model = models.resnet18()\n",
    "model = model.to(args['device'])\n",
    "model.name = 'Resnet-18'\n",
    "print(\"Stock model on device:\", next(model.parameters()).device)\n",
    "#################################################\n",
    "############# Modify the code below #############\n",
    "#################################################\n",
    "model_optim = models.resnet18()\n",
    "model_optim = model_optim.to(args_optim['device'])\n",
    "model_optim.name = 'Resnet-18'\n",
    "print(\"Optimized model on device:\", next(model_optim.parameters()).device)"
   ]
  },
  {
   "cell_type": "markdown",
   "metadata": {
    "id": "p4umlBOmghZX"
   },
   "source": [
    "<details>\n",
    "<summary>Spoiler</summary>\n",
    "    \n",
    "```python\n",
    "model_optim = models.resnet18(ResNet18_Weights)\n",
    "model_optim = model_optim.to(args_optim['device'])\n",
    "model_optim.name = 'Resnet-18'\n",
    "print(\"Optimized model on device:\", next(model_optim.parameters()).device)\n",
    "```    \n",
    "</details>"
   ]
  },
  {
   "cell_type": "markdown",
   "metadata": {
    "id": "Ur1uA38ugiBl"
   },
   "source": [
    "## Loss\n",
    "We use a standart loss for classification.\n",
    "\n",
    "For the comparison, if you change the loss, change it for both.\n"
   ]
  },
  {
   "cell_type": "code",
   "execution_count": 11,
   "metadata": {
    "id": "sxSZEKKogiJe"
   },
   "outputs": [],
   "source": [
    "criterion = torch.nn.CrossEntropyLoss()\n",
    "criterion_optim = torch.nn.CrossEntropyLoss()"
   ]
  },
  {
   "cell_type": "markdown",
   "metadata": {
    "id": "qJadxpf_giT4"
   },
   "source": [
    "## Optimizer\n",
    "\n",
    "> In order to speed up the training, you can try to use a different optimizer: https://pytorch.org/docs/stable/optim.html#base-class"
   ]
  },
  {
   "cell_type": "code",
   "execution_count": 12,
   "metadata": {
    "id": "3fsqrktLgiaJ"
   },
   "outputs": [],
   "source": [
    "optimizer = torch.optim.SGD(model.parameters(), args['learning_rate'], args['momentum'], args['weight_decay'])\n",
    "#################################################\n",
    "############# Modify the code below #############\n",
    "#################################################\n",
    "optimizer_optim = torch.optim.SGD(model.parameters(), args_optim['learning_rate'], args_optim['momentum'], args_optim['weight_decay'])"
   ]
  },
  {
   "cell_type": "markdown",
   "metadata": {
    "id": "ZEcyEt1Ig21T"
   },
   "source": [
    "<details>\n",
    "<summary>Spoiler</summary>\n",
    "\n",
    "```python\n",
    "optimizer_optim = torch.optim.AdamW(model_optim.parameters(), lr = args_optim['learning_rate'], weight_decay=args_optim['weight_decay'])\n",
    "```\n",
    "</details>"
   ]
  },
  {
   "cell_type": "markdown",
   "metadata": {
    "id": "3wcKevBct--P"
   },
   "source": [
    "## Learning rate scheduler\n",
    "In order to adjust the learning rate over iterations/epochs, we can make use of a learning rate scheduler.\n",
    "\n",
    "To use a LR scheduler, you will need to :\n",
    "- instantiate the scheduler (in the coding cell below)\n",
    "- adapt the training loop (in the \"Training\" section)\n",
    "\n",
    "Take a look at this page : https://pytorch.org/docs/stable/optim.html#how-to-adjust-learning-rate which: \n",
    "- describes how to use a scheduler (warning : some scheduler are updated at a step level and others at an epoch level)\n",
    "- lists the available schedulers (you could also create your own starting from the _LRScheduler class)\n",
    "\n",
    "> **You can define your scheduler here.**\n",
    "\n",
    "> **You will have to modify the training loop later on.**"
   ]
  },
  {
   "cell_type": "code",
   "execution_count": 13,
   "metadata": {
    "id": "ISanTSFWuBps"
   },
   "outputs": [],
   "source": [
    "scheduler = None\n",
    "#################################################\n",
    "############# Modify the code below #############\n",
    "#################################################\n",
    "scheduler_optim = None"
   ]
  },
  {
   "cell_type": "markdown",
   "metadata": {
    "id": "KvnPRnuJvjVx"
   },
   "source": [
    "<details>\n",
    "<summary>Spoiler</summary>\n",
    "    \n",
    "```python\n",
    "scheduler_optim = torch.optim.lr_scheduler.OneCycleLR(optimizer_optim, \n",
    "                                                      max_lr=args_optim['learning_rate'], \n",
    "                                                      steps_per_epoch = len(train_loader_optim), \n",
    "                                                      epochs=args_optim['epochs'])\n",
    "```    \n",
    "</details>"
   ]
  },
  {
   "cell_type": "markdown",
   "metadata": {
    "id": "YxPlz4U3g9Yv"
   },
   "source": [
    "## Model training (reference performances)\n",
    "Once we have all our main actors, we can setup the stage that is our training loop.\n",
    "\n",
    "Below is used a typical loop as you can find in https://pytorch.org/tutorials/beginner/blitz/cifar10_tutorial.html\n",
    "> **Run it a first time to have a performance baseline with all the default values.**"
   ]
  },
  {
   "cell_type": "code",
   "execution_count": 14,
   "metadata": {
    "id": "cy1QzZxwNOVH"
   },
   "outputs": [
    {
     "name": "stdout",
     "output_type": "stream",
     "text": [
      "Epoch  0\n",
      "\t Train loss :  5.272572525427677e-05 & Train accuracy :  53.75520166453265\n",
      "\t Validation loss :  0.0002684388018678874 & Validation accuracy :  50.76121794871795\n",
      "Epoch  1\n",
      "\t Train loss :  4.1237090044887736e-05 & Train accuracy :  61.71174775928298\n",
      "\t Validation loss :  0.00026081412215717137 & Validation accuracy :  56.58052884615385\n",
      "Epoch  2\n",
      "\t Train loss :  3.6135381378699094e-05 & Train accuracy :  68.06778169014085\n",
      "\t Validation loss :  0.00023991975467652082 & Validation accuracy :  60.38661858974359\n",
      "Epoch  3\n",
      "\t Train loss :  2.7416836019256152e-05 & Train accuracy :  73.60755441741357\n",
      "\t Validation loss :  0.0002622790343593806 & Validation accuracy :  62.630208333333336\n",
      "Epoch  4\n",
      "\t Train loss :  2.7480878998176195e-05 & Train accuracy :  76.7945742637644\n",
      "\t Validation loss :  0.0002240049361716956 & Validation accuracy :  62.57011217948718\n",
      "Epoch  5\n",
      "\t Train loss :  2.3565260562463664e-05 & Train accuracy :  81.20598591549296\n",
      "\t Validation loss :  0.0002684269566088915 & Validation accuracy :  63.371394230769226\n",
      "Epoch  6\n",
      "\t Train loss :  1.2455821888579521e-05 & Train accuracy :  84.74711907810499\n",
      "\t Validation loss :  0.0002740306663326919 & Validation accuracy :  64.03245192307693\n",
      "Epoch  7\n",
      "\t Train loss :  6.9300599534471985e-06 & Train accuracy :  87.1218790012804\n",
      "\t Validation loss :  0.0002825153642334044 & Validation accuracy :  64.25280448717949\n",
      "Epoch  8\n",
      "\t Train loss :  9.811995369091164e-06 & Train accuracy :  89.31658130601792\n",
      "\t Validation loss :  0.0003173715667799115 & Validation accuracy :  64.73357371794873\n",
      "Epoch  9\n",
      "\t Train loss :  1.273589350603288e-05 & Train accuracy :  91.72735275288092\n",
      "\t Validation loss :  0.00026859462377615273 & Validation accuracy :  63.84214743589743\n",
      "Finished Training in: 6704.363262891769 seconds with mean epoch duration: 670.4363262891769  seconds\n"
     ]
    }
   ],
   "source": [
    "results_default = train_default(train_loader, val_loader, model, optimizer, criterion, args)"
   ]
  },
  {
   "cell_type": "markdown",
   "metadata": {
    "id": "7vU3uot9v3hc"
   },
   "source": [
    "## Speeding up the hyperparameter search : Learning Rate Finder\n",
    "Wether we are using a scheduler or not, we need to determine either : \n",
    "- the constant learning rate you want to use, \n",
    "- or the maximum learning rate used by the scheduler.\n",
    "\n",
    "If you are in the first situation, you just want a good all-rounder learning rate to have a relatively fast conversion and minimize the oscillations at the end of the convergence.\n",
    "\n",
    "In the second situation, you can focus more on having the fastest inital convergence as the oscillations will be generally taken care by a decreasing learning rate strategy. Thus, we want the highest maximum learning rate possible.\n",
    "\n",
    "It would be ideal to find the best learning rate quickly in order to speedup our hyperparameter search.\n",
    "Various strategy more or less complex exists to find an estimate of this value.\n",
    "Below, we try to find the learning rate by doing a few steps on a range of learning rates. We evaluate each learning rate to determine the best one to choose for our full training.\n",
    "\n",
    "> **As this step can take quite some time, we provided you with some values for the default config which you are not supposed to change anyway. You can find them in the next spoiler**\n",
    "\n",
    "> **Uncomment explore_lrs to rerun the exploration, otherwise you can reuse the given values.**\n",
    "\n",
    "> **Be careful to re-run this cell to reset the model and optimizer,...  to have a \"fresh\" exploration each time**\n",
    "\n",
    "> **Also if you change the optimizer for the optimized run, change it also here to find the best learning rate for that optimizer.** Or rerun the cell where you defined it."
   ]
  },
  {
   "cell_type": "code",
   "execution_count": 15,
   "metadata": {
    "id": "kG45YwwY5Hut"
   },
   "outputs": [
    {
     "name": "stdout",
     "output_type": "stream",
     "text": [
      "Learning rate space :  [1.e-06 1.e-05 1.e-04 1.e-03 1.e-02 1.e-01 1.e+00 1.e+01]\n",
      "Testing lr: 1.00e-06\n",
      "[7.419761657714844, 7.593792915344238, 7.48207426071167, 7.374802112579346, 7.391928195953369, 7.41804838180542, 7.336314678192139, 7.395488739013672, 7.303165435791016, 7.398961067199707, 7.486789226531982, 7.360423564910889, 7.376132488250732, 7.339271545410156, 7.48701810836792, 7.397146224975586, 7.391808986663818, 7.309584617614746, 7.428520202636719, 7.360744476318359, 7.560018062591553, 7.4050397872924805, 7.262430667877197, 7.4990458488464355, 7.36317777633667, 7.544572830200195, 7.408862113952637, 7.48329496383667, 7.44195556640625, 7.5496978759765625, 7.39951229095459, 7.506143569946289, 7.440771579742432, 7.567551612854004, 7.421284198760986, 7.4644775390625, 7.459981441497803, 7.502686023712158, 7.553403854370117, 7.495738983154297, 7.304009914398193, 7.418666839599609, 7.464599132537842, 7.243458271026611, 7.343512058258057, 7.504941940307617, 7.456702709197998, 7.422183513641357, 7.4880757331848145, 7.369601726531982, 7.4670562744140625, 7.445424556732178, 7.522863388061523, 7.365819454193115, 7.361069202423096, 7.506048679351807, 7.370262145996094, 7.201982021331787, 7.4846391677856445, 7.585654258728027, 7.336128234863281, 7.455915927886963, 7.354143142700195, 7.464043617248535, 7.339362144470215, 7.617468357086182, 7.346851348876953, 7.491522312164307, 7.399875164031982, 7.534310817718506, 7.304482460021973, 7.400437355041504, 7.293398380279541, 7.508495330810547, 7.476439952850342, 7.382992267608643, 7.4573798179626465, 7.554746627807617, 7.518197059631348, 7.303648948669434, 7.254421710968018, 7.4108357429504395, 7.533016681671143, 7.455338001251221, 7.376626014709473, 7.7068657875061035, 7.3201799392700195, 7.3574700355529785, 7.356980323791504, 7.516381740570068, 7.442681789398193, 7.395565986633301, 7.509329795837402, 7.560778617858887, 7.377181053161621, 7.549559116363525, 7.670019149780273, 7.578525543212891, 7.392300605773926, 7.355217456817627]\n",
      "Testing lr: 1.00e-05\n",
      "[7.507073402404785, 7.480042457580566, 7.473854064941406, 7.509211540222168, 7.298604488372803, 7.3790283203125, 7.584268569946289, 7.501895904541016, 7.481614112854004, 7.483633041381836, 7.400642395019531, 7.3852009773254395, 7.414116859436035, 7.366923809051514, 7.468939304351807, 7.494457244873047, 7.36195182800293, 7.431619644165039, 7.260492324829102, 7.410036087036133, 7.483112812042236, 7.409327983856201, 7.573590278625488, 7.398221969604492, 7.308657646179199, 7.392615795135498, 7.330446720123291, 7.465406894683838, 7.426718711853027, 7.373085975646973, 7.34469747543335, 7.468042373657227, 7.524987697601318, 7.678531646728516, 7.483209133148193, 7.4034318923950195, 7.578580856323242, 7.343076705932617, 7.363282680511475, 7.377161502838135, 7.593825340270996, 7.555202484130859, 7.494239330291748, 7.468033790588379, 7.4046125411987305, 7.481019020080566, 7.38373327255249, 7.501092433929443, 7.37470006942749, 7.409092426300049, 7.619811534881592, 7.38587760925293, 7.66708517074585, 7.39298152923584, 7.364181041717529, 7.516503810882568, 7.422152042388916, 7.294619560241699, 7.505204677581787, 7.578333377838135, 7.616258144378662, 7.587737083435059, 7.3515119552612305, 7.305661678314209, 7.5114850997924805, 7.330053329467773, 7.5830254554748535, 7.326706409454346, 7.370547294616699, 7.424891471862793, 7.515486717224121, 7.400237560272217, 7.382480144500732, 7.436619758605957, 7.344264507293701, 7.328357696533203, 7.518882751464844, 7.569310188293457, 7.346742153167725, 7.549232482910156, 7.370077610015869, 7.364647388458252, 7.363204002380371, 7.425028324127197, 7.410587787628174, 7.569702625274658, 7.614126205444336, 7.456116676330566, 7.365342617034912, 7.545656681060791, 7.425246238708496, 7.358298301696777, 7.4248833656311035, 7.491038799285889, 7.545748710632324, 7.537975311279297, 7.3364996910095215, 7.512805938720703, 7.371830463409424, 7.284224510192871]\n",
      "Testing lr: 1.00e-04\n",
      "[7.509480953216553, 7.376406192779541, 7.378586769104004, 7.579549312591553, 7.288093566894531, 7.421067237854004, 7.4947004318237305, 7.312798023223877, 7.517445087432861, 7.320001125335693, 7.32523250579834, 7.57644510269165, 7.499637603759766, 7.5545525550842285, 7.475015640258789, 7.428677558898926, 7.603419303894043, 7.44706916809082, 7.481826305389404, 7.413771152496338, 7.362215042114258, 7.352053642272949, 7.498864650726318, 7.406500816345215, 7.526271343231201, 7.390323638916016, 7.6051177978515625, 7.3728227615356445, 7.36067533493042, 7.3886637687683105, 7.352466583251953, 7.3283538818359375, 7.419597625732422, 7.488522529602051, 7.529510974884033, 7.4468159675598145, 7.3400068283081055, 7.255964279174805, 7.493046760559082, 7.296501159667969, 7.678790092468262, 7.477224826812744, 7.4051947593688965, 7.468562602996826, 7.47401237487793, 7.488365650177002, 7.429877281188965, 7.6162824630737305, 7.585488796234131, 7.487378120422363, 7.437647819519043, 7.41131067276001, 7.438054084777832, 7.52370548248291, 7.4915571212768555, 7.577145099639893, 7.313694953918457, 7.388830184936523, 7.532190799713135, 7.474623203277588, 7.549980640411377, 7.4881157875061035, 7.451590538024902, 7.420559883117676, 7.350864887237549, 7.460283279418945, 7.618229866027832, 7.3733978271484375, 7.567434310913086, 7.396778106689453, 7.444341659545898, 7.469860076904297, 7.328895568847656, 7.535658359527588, 7.37595272064209, 7.534163475036621, 7.3600754737854, 7.309037685394287, 7.528608322143555, 7.520177841186523, 7.504251956939697, 7.327430248260498, 7.394924163818359, 7.39724063873291, 7.3325090408325195, 7.306191444396973, 7.57951545715332, 7.466948986053467, 7.557118892669678, 7.424918174743652, 7.469153881072998, 7.4640679359436035, 7.492001056671143, 7.439135551452637, 7.313169479370117, 7.556758403778076, 7.495384216308594, 7.546398639678955, 7.503525257110596, 7.471691608428955]\n",
      "Testing lr: 1.00e-03\n",
      "[7.414229869842529, 7.442055702209473, 7.431274890899658, 7.5086541175842285, 7.507354259490967, 7.331664085388184, 7.459498882293701, 7.493399620056152, 7.343704700469971, 7.490529537200928, 7.476248264312744, 7.396803379058838, 7.419756889343262, 7.327024459838867, 7.418910980224609, 7.329960823059082, 7.523788928985596, 7.411228656768799, 7.447990417480469, 7.557519435882568, 7.435967445373535, 7.354050159454346, 7.448550224304199, 7.345884799957275, 7.490915775299072, 7.436007976531982, 7.561872482299805, 7.395895957946777, 7.296273231506348, 7.400114059448242, 7.446206569671631, 7.4690327644348145, 7.466126918792725, 7.541216850280762, 7.3587646484375, 7.508065700531006, 7.491244316101074, 7.407318115234375, 7.441564083099365, 7.620304107666016, 7.396093368530273, 7.327824115753174, 7.395088195800781, 7.384829998016357, 7.431437015533447, 7.319897174835205, 7.472723960876465, 7.435823440551758, 7.377805233001709, 7.381910800933838, 7.5277323722839355, 7.4412970542907715, 7.395347595214844, 7.492489814758301, 7.483610153198242, 7.542879104614258, 7.456097602844238, 7.3607258796691895, 7.493064880371094, 7.4638142585754395, 7.394426345825195, 7.47614049911499, 7.430738925933838, 7.412458419799805, 7.459724426269531, 7.4099555015563965, 7.446235179901123, 7.301519393920898, 7.443187236785889, 7.333274841308594, 7.370086193084717, 7.492860317230225, 7.57804012298584, 7.2754340171813965, 7.316645622253418, 7.417101860046387, 7.520532131195068, 7.451279640197754, 7.470933437347412, 7.441530704498291, 7.363975524902344, 7.28690767288208, 7.3626708984375, 7.390379905700684, 7.319863319396973, 7.352334976196289, 7.422410011291504, 7.475571155548096, 7.437492370605469, 7.404455184936523, 7.450923919677734, 7.59809684753418, 7.486468315124512, 7.393439292907715, 7.38800048828125, 7.364753246307373, 7.527534008026123, 7.376319408416748, 7.371830463409424, 7.562641620635986]\n",
      "Testing lr: 1.00e-02\n",
      "[7.350325584411621, 7.369810104370117, 7.32516622543335, 7.507959365844727, 7.457028388977051, 7.37057638168335, 7.338408470153809, 7.459721088409424, 7.4014973640441895, 7.350643157958984, 7.6697916984558105, 7.4571428298950195, 7.47985315322876, 7.409826278686523, 7.3168416023254395, 7.393313407897949, 7.391637802124023, 7.421658992767334, 7.2645487785339355, 7.584290504455566, 7.42326545715332, 7.370654582977295, 7.494131088256836, 7.479381084442139, 7.337989807128906, 7.322457790374756, 7.380463600158691, 7.580165863037109, 7.342601776123047, 7.623930931091309, 7.461554050445557, 7.339942932128906, 7.545234680175781, 7.3762593269348145, 7.35396146774292, 7.687434196472168, 7.3935089111328125, 7.4248809814453125, 7.499804973602295, 7.462951183319092, 7.372064113616943, 7.546996593475342, 7.581617832183838, 7.472067832946777, 7.436977863311768, 7.365838527679443, 7.501944541931152, 7.4318132400512695, 7.384066581726074, 7.5142974853515625, 7.5170464515686035, 7.594900608062744, 7.4974164962768555, 7.382063388824463, 7.527327537536621, 7.44193172454834, 7.4437785148620605, 7.4980645179748535, 7.2996625900268555, 7.3491034507751465, 7.643510341644287, 7.486280918121338, 7.522146701812744, 7.457010746002197, 7.435608863830566, 7.38989782333374, 7.437704086303711, 7.352297306060791, 7.410548210144043, 7.4444684982299805, 7.565598487854004, 7.409864902496338, 7.400239944458008, 7.487556457519531, 7.503510475158691, 7.353167533874512, 7.37741756439209, 7.454441070556641, 7.457050800323486, 7.4134721755981445, 7.359240531921387, 7.294426918029785, 7.427575588226318, 7.433163166046143, 7.461129188537598, 7.339001655578613, 7.457264423370361, 7.30772590637207, 7.4011454582214355, 7.433144569396973, 7.4200439453125, 7.382503986358643, 7.414788246154785, 7.433629035949707, 7.295389652252197, 7.429897785186768, 7.3813557624816895, 7.406510829925537, 7.389052867889404, 7.414772987365723]\n",
      "Testing lr: 1.00e-01\n",
      "[7.520678520202637, 7.517598628997803, 7.490523338317871, 7.328077793121338, 7.5048298835754395, 7.481429100036621, 7.47566032409668, 7.516222953796387, 7.551016330718994, 7.514842987060547, 7.37050724029541, 7.57372522354126, 7.427130699157715, 7.3898024559021, 7.4525227546691895, 7.373743057250977, 7.409206390380859, 7.5152716636657715, 7.358139991760254, 7.492639541625977, 7.426584720611572, 7.475597381591797, 7.461875915527344, 7.490935802459717, 7.405865669250488, 7.388251304626465, 7.300663948059082, 7.450161457061768, 7.284673690795898, 7.313803195953369, 7.393413066864014, 7.344696044921875, 7.509597301483154, 7.4604105949401855, 7.54303503036499, 7.440454483032227, 7.216982364654541, 7.388031482696533, 7.527512073516846, 7.376597881317139, 7.295349597930908, 7.431461334228516, 7.40602970123291, 7.451494216918945, 7.524389743804932, 7.378511428833008, 7.358376979827881, 7.4489641189575195, 7.488983154296875, 7.295015811920166, 7.426154613494873, 7.4638671875, 7.56675910949707, 7.428265571594238, 7.530665874481201, 7.427642345428467, 7.51469087600708, 7.638052463531494, 7.421201229095459, 7.437817573547363, 7.360913276672363, 7.242541790008545, 7.466230869293213, 7.477941989898682, 7.378424167633057, 7.395641326904297, 7.571516990661621, 7.489190101623535, 7.452282428741455, 7.472546577453613, 7.444566249847412, 7.31815242767334, 7.443853378295898, 7.398118019104004, 7.365251541137695, 7.362204551696777, 7.287405967712402, 7.483693599700928, 7.424046039581299, 7.567410469055176, 7.293667793273926, 7.400763511657715, 7.529911041259766, 7.527597904205322, 7.455832481384277, 7.294003009796143, 7.471570014953613, 7.407731533050537, 7.373873710632324, 7.39642858505249, 7.527145862579346, 7.548656463623047, 7.544857501983643, 7.556595802307129, 7.416481018066406, 7.386166572570801, 7.312209129333496, 7.3248419761657715, 7.342711448669434, 7.483738899230957]\n",
      "Testing lr: 1.00e+00\n",
      "[7.351171493530273, 7.373095512390137, 7.404135227203369, 7.456360340118408, 7.368862628936768, 7.4526472091674805, 7.536891937255859, 7.479545593261719, 7.3158793449401855, 7.382385730743408, 7.469723224639893, 7.375044822692871, 7.498600006103516, 7.317770004272461, 7.399544715881348, 7.365698337554932, 7.478879928588867, 7.515996932983398, 7.320478916168213, 7.376028060913086, 7.387002468109131, 7.50782585144043, 7.334043502807617, 7.466392517089844, 7.479255199432373, 7.41782283782959, 7.321045875549316, 7.421925067901611, 7.677552223205566, 7.525335311889648, 7.478794574737549, 7.433156967163086, 7.487648963928223, 7.5189433097839355, 7.402175426483154, 7.3668012619018555, 7.436351776123047, 7.503838539123535, 7.352564334869385, 7.43107795715332, 7.376819133758545, 7.457705497741699, 7.466853141784668, 7.302405834197998, 7.501262664794922, 7.507023334503174, 7.4312849044799805, 7.5190300941467285, 7.385749340057373, 7.372766971588135, 7.505043983459473, 7.35502815246582, 7.451132297515869, 7.42406702041626, 7.458118915557861, 7.3993659019470215, 7.3356547355651855, 7.3924880027771, 7.427156925201416, 7.430538177490234, 7.434749603271484, 7.432433128356934, 7.405489444732666, 7.461623668670654, 7.332235813140869, 7.223793029785156, 7.404766082763672, 7.564533233642578, 7.448836803436279, 7.323508262634277, 7.501267910003662, 7.585242748260498, 7.580006122589111, 7.590813159942627, 7.576282024383545, 7.38240909576416, 7.330125331878662, 7.433470249176025, 7.478808403015137, 7.3107123374938965, 7.5868425369262695, 7.453286647796631, 7.456429958343506, 7.3951873779296875, 7.409013748168945, 7.522997856140137, 7.404371738433838, 7.376338005065918, 7.346767902374268, 7.450631141662598, 7.351933002471924, 7.481839179992676, 7.601630687713623, 7.386350154876709, 7.536300182342529, 7.3974609375, 7.405510902404785, 7.529202938079834, 7.378859519958496, 7.562841415405273]\n",
      "Testing lr: 1.00e+01\n",
      "[7.510836124420166, 7.543953895568848, 7.2871904373168945, 7.416364669799805, 7.389890670776367, 7.462159156799316, 7.2767462730407715, 7.408139705657959, 7.443251609802246, 7.486937046051025, 7.417153835296631, 7.546849250793457, 7.456887722015381, 7.4538893699646, 7.360795021057129, 7.437273979187012, 7.415824890136719, 7.592033386230469, 7.286288261413574, 7.501939296722412, 7.5939435958862305, 7.377923965454102, 7.475200653076172, 7.560562610626221, 7.368378639221191, 7.322656631469727, 7.405280590057373, 7.38207483291626, 7.437457084655762, 7.351295471191406, 7.39340353012085, 7.493377208709717, 7.372378826141357, 7.438058376312256, 7.602174758911133, 7.426663875579834, 7.414999008178711, 7.320931911468506, 7.334047317504883, 7.441739559173584, 7.475921630859375, 7.5024027824401855, 7.406630516052246, 7.651307106018066, 7.3589887619018555, 7.428452968597412, 7.395743370056152, 7.440981864929199, 7.424570560455322, 7.354613780975342, 7.3529744148254395, 7.35757303237915, 7.415847301483154, 7.322805404663086, 7.393252849578857, 7.288458824157715, 7.404345512390137, 7.456691265106201, 7.5363383293151855, 7.5043487548828125, 7.458354949951172, 7.419380187988281, 7.663136005401611, 7.455999851226807, 7.593509197235107, 7.358254432678223, 7.4107513427734375, 7.451706886291504, 7.457945823669434, 7.596185684204102, 7.440815448760986, 7.603567600250244, 7.493431091308594, 7.429647445678711, 7.414907932281494, 7.526616096496582, 7.464444160461426, 7.584112167358398, 7.276866912841797, 7.527798652648926, 7.533406734466553, 7.395874500274658, 7.437713623046875, 7.324563980102539, 7.553054332733154, 7.421560764312744, 7.395938873291016, 7.479255676269531, 7.474508762359619, 7.475885391235352, 7.481890678405762, 7.344686031341553, 7.4544782638549805, 7.695372581481934, 7.574160575866699, 7.412580490112305, 7.410130500793457, 7.5950212478637695, 7.414207458496094, 7.4842939376831055]\n"
     ]
    }
   ],
   "source": [
    "lrs, lrs_losses, lrs_metric_avg, lrs_metric_var = explore_lrs(train_loader_optim,\n",
    "                                                              model_optim, \n",
    "                                                              optimizer_optim,\n",
    "                                                              args_optim,\n",
    "                                                              min_learning_rate_power=-6, \n",
    "                                                              max_learning_rate_power = 1,\n",
    "                                                              num_lrs=8,\n",
    "                                                              steps_per_lr=100) "
   ]
  },
  {
   "cell_type": "markdown",
   "metadata": {
    "id": "pDmkRbleNOVL"
   },
   "source": [
    "<details>\n",
    "<summary>Spoiler</summary>\n",
    "    \n",
    "```python\n",
    "lrs=[1.e-06, 1.e-05, 1.e-04, 1.e-03, 1.e-02, 1.e-01, 1.e+00, 1.e+01]\n",
    "lrs_losses=  [7.502097129821777, 7.22658634185791, 5.24326229095459, 1.7600191831588745, 1.4037541151046753, 2.136382579803467, 2.1029751300811768, 446.49951171875]\n",
    "lrs_metric_avg=[0.0017601490020751954, -0.005245075225830078, -0.041641921997070314, -0.07478624820709229, -0.007052739858627319, 0.04763659238815308, 0.03924872875213623, 9.939403522014619]\n",
    "lrs_metric_var=[0.0006510000222988311, 0.0004144988674492198, 0.000668689274974986, 0.013876865854565344, 0.001481160611942387, 0.3384368026131311, 0.8817071610439394, 2157852536609.2454]\n",
    "```    \n",
    "</details>"
   ]
  },
  {
   "cell_type": "code",
   "execution_count": 16,
   "metadata": {
    "id": "gpFPWNZXv670"
   },
   "outputs": [
    {
     "name": "stdout",
     "output_type": "stream",
     "text": [
      "lrs:  [1.e-06 1.e-05 1.e-04 1.e-03 1.e-02 1.e-01 1.e+00 1.e+01]\n",
      "lrs_losses:  [7.355217456817627, 7.284224510192871, 7.471691608428955, 7.562641620635986, 7.414772987365723, 7.483738899230957, 7.562841415405273, 7.4842939376831055]\n",
      "lrs_metric_avg:  [3.929853439331055e-05, -0.002801673412322998, -0.0012024354934692383, 0.0025773024559020996, 0.0008704972267150879, 0.00032034158706665037, 0.003146228790283203, 0.0002505993843078613]\n",
      "lrs_metric_var:  [0.0048708492957508205, 0.004597332155058502, 0.0038866995585178526, 0.0032975531412085895, 0.0037182111871910083, 0.0036459613379257634, 0.003773982038826626, 0.003676994569706375]\n"
     ]
    },
    {
     "data": {
      "image/png": "[encoded data removed]",
      "text/plain": [
       "<Figure size 1000x1500 with 3 Axes>"
      ]
     },
     "metadata": {},
     "output_type": "display_data"
    }
   ],
   "source": [
    "plot_eval(lrs, lrs_losses, lrs_metric_avg, lrs_metric_var)"
   ]
  },
  {
   "cell_type": "markdown",
   "metadata": {
    "id": "pVw14RZ9NOVO"
   },
   "source": [
    "## Optimize the training loop\n",
    "\n",
    "> Adapt the dataset transformations, batch_size & dataloader, lr & lr_scheduler, and optimizer in order to achieve better classification results in less time. \n",
    "\n",
    "> Change this training loop to include:\n",
    "> - a learning rate scheduler : https://pytorch.org/docs/stable/optim.html#how-to-adjust-learning-rate\n",
    "> - a strategy such as early stopping or patience : https://www.kaggle.com/code/akhileshrai/tutorial-early-stopping-vanilla-rnn-pytorch?scriptVersionId=26440051&cellId=10#4.-Early-Stopping\n",
    "\n",
    "> **Also think about changing the call to the function if you added arguments.**\n",
    "\n",
    "> For you, we added automatic mixed precision which will be seen in the next course\n",
    "\n",
    "> **BEFORE RUNNING, WE NEED TO REINITIALIZE THE MODEL, OPTIMIZER AND SCHEDULER FOR A FAIR FIGHT. Rewrite below the changes you have brought to them.**"
   ]
  },
  {
   "cell_type": "code",
   "execution_count": 17,
   "metadata": {
    "id": "hF-p2CCsNOVO"
   },
   "outputs": [],
   "source": [
    "model_optim = models.resnet18().to(args_optim['device'])\n",
    "model_optim.name = 'Resnet-18'\n",
    "optimizer_optim = torch.optim.SGD(model_optim.parameters(), args_optim['learning_rate'], args_optim['momentum'], args_optim['weight_decay'])\n",
    "scheduler_optim = None"
   ]
  },
  {
   "cell_type": "code",
   "execution_count": 18,
   "metadata": {
    "id": "q79Y1wzENOVQ"
   },
   "outputs": [],
   "source": [
    "def train_optim(train_loader, val_loader, model, optimizer, criterion, args):\n",
    "    '''\n",
    "    The default simple training loop\n",
    "    '''\n",
    "    train_losses = []\n",
    "    train_accuracies = []\n",
    "    val_losses = []\n",
    "    val_accuracies = []\n",
    "    time_start = time.time()\n",
    "    for epoch in range(args['epochs']):\n",
    "        print(\"Epoch \", epoch)\n",
    "        for i, (images, labels) in enumerate(train_loader):\n",
    "            # distribution of images and labels to all GPUs\n",
    "            images = images.to(args['device'], non_blocking=True)\n",
    "            labels = labels.to(args['device'], non_blocking=True)\n",
    "            \n",
    "            # Zero the parameter gradients\n",
    "            optimizer.zero_grad()\n",
    "\n",
    "            # Forward pass\n",
    "            outputs = model(images)\n",
    "            loss = criterion(outputs, labels)\n",
    "\n",
    "            # Backward pass\n",
    "            loss.backward()\n",
    "\n",
    "            # Optimize\n",
    "            optimizer.step()\n",
    "\n",
    "        # Evaluate at the end of the epoch on the train set\n",
    "        train_loss, train_accuracy = evaluate(train_loader, model, criterion, args)\n",
    "        print(\"\\t Train loss : \", train_loss, \"& Train accuracy : \", train_accuracy)\n",
    "        train_losses.append(train_loss)\n",
    "        train_accuracies.append(train_accuracy)                \n",
    "                \n",
    "        # Evaluate at the end of the epoch on the val set\n",
    "        val_loss, val_accuracy = evaluate(val_loader, model, criterion, args)\n",
    "        print(\"\\t Validation loss : \", val_loss, \"& Validation accuracy : \", val_accuracy)\n",
    "        val_losses.append(val_loss)\n",
    "        val_accuracies.append(val_accuracy)\n",
    "    duration = time.time() - time_start\n",
    "    print('Finished Training in:', duration, 'seconds with mean epoch duration:', duration/args['epochs'], ' seconds')\n",
    "    results = {'model':model,\n",
    "               'train_losses': train_losses,\n",
    "               'train_accuracies': train_accuracies,\n",
    "               'val_losses': val_losses,\n",
    "               'val_accuracies': val_accuracies,\n",
    "               'duration':duration}\n",
    "    return results\n"
   ]
  },
  {
   "cell_type": "markdown",
   "metadata": {
    "id": "Z_T19pdUNOVR"
   },
   "source": [
    "<details>\n",
    "<summary>Spoiler</summary>\n",
    "    \n",
    "```python\n",
    "def train_optim(train_loader, val_loader, model, optimizer, criterion, scheduler, args):\n",
    "    '''\n",
    "    The default simple training loop\n",
    "    '''\n",
    "    train_losses = []\n",
    "    train_accuracies = []\n",
    "    val_losses = []\n",
    "    val_accuracies = []\n",
    "    time_start = time.time()\n",
    "    scaler = GradScaler()\n",
    "    for epoch in range(args['epochs']):\n",
    "        print(\"Epoch \", epoch)\n",
    "        for i, (images, labels) in enumerate(train_loader):\n",
    "            # distribution of images and labels to all GPUs\n",
    "            images = images.to(args['device'], non_blocking=True)\n",
    "            labels = labels.to(args['device'], non_blocking=True)\n",
    "            \n",
    "            # Zero the parameter gradients\n",
    "            optimizer.zero_grad()\n",
    "\n",
    "            # Forward pass\n",
    "            with autocast():\n",
    "                outputs = model(images)\n",
    "                loss = criterion(outputs, labels)\n",
    "\n",
    "            # Backward pass\n",
    "            scaler.scale(loss).backward()\n",
    "            \n",
    "            # Optimize\n",
    "            scaler.step(optimizer)\n",
    "            \n",
    "            # Updates the scale for next iteration.\n",
    "            scaler.update()\n",
    "            \n",
    "            # Update Learning Rate scheduler, warning some schedulers are updated every epoch and not step.\n",
    "            if scheduler is not None:\n",
    "                scheduler.step()\n",
    "\n",
    "        # Evaluate at the end of the epoch\n",
    "        train_loss, train_accuracy = evaluate(train_loader, model, criterion, args)\n",
    "        print(\"\\t Train loss : \", train_loss, \"& Train accuracy : \", train_accuracy)\n",
    "        train_losses.append(train_loss)\n",
    "        train_accuracies.append(train_accuracy)                \n",
    "                \n",
    "        # Evaluate at the end of the epoch\n",
    "        val_loss, val_accuracy = evaluate(val_loader, model, criterion, args)\n",
    "        print(\"\\t Validation loss : \", val_loss, \"& Validation accuracy : \", val_accuracy)\n",
    "        val_losses.append(val_loss)\n",
    "        val_accuracies.append(val_accuracy)\n",
    "    duration = time.time() - time_start\n",
    "    print('Finished Training in:', duration, 'seconds with mean epoch duration:', duration/args['epochs'], ' seconds')\n",
    "    results = {'model':model,\n",
    "               'train_losses': train_losses,\n",
    "               'train_accuracies': train_accuracies,\n",
    "               'val_losses': val_losses,\n",
    "               'val_accuracies': val_accuracies,\n",
    "               'duration':duration}\n",
    "    return results\n",
    "```    \n",
    "</details>"
   ]
  },
  {
   "cell_type": "code",
   "execution_count": 19,
   "metadata": {
    "id": "Xodf9IltNOVT"
   },
   "outputs": [
    {
     "name": "stdout",
     "output_type": "stream",
     "text": [
      "Epoch  0\n",
      "\t Train loss :  4.531728336587548e-05 & Train accuracy :  53.385083226632524\n",
      "\t Validation loss :  0.0002896013611461967 & Validation accuracy :  50.911458333333336\n",
      "Epoch  1\n",
      "\t Train loss :  5.035350477555767e-05 & Train accuracy :  61.75176056338029\n",
      "\t Validation loss :  0.00027065956965088844 & Validation accuracy :  55.739182692307686\n",
      "Epoch  2\n",
      "\t Train loss :  3.234758332837373e-05 & Train accuracy :  68.18181818181817\n",
      "\t Validation loss :  0.0002495504741091281 & Validation accuracy :  60.066105769230774\n",
      "Epoch  3\n",
      "\t Train loss :  3.380627094884403e-05 & Train accuracy :  73.6175576184379\n",
      "\t Validation loss :  0.00024427520111203194 & Validation accuracy :  61.69871794871795\n",
      "Epoch  4\n",
      "\t Train loss :  2.1436522729345597e-05 & Train accuracy :  77.95894686299616\n",
      "\t Validation loss :  0.0002375944604864344 & Validation accuracy :  63.34134615384615\n",
      "Epoch  5\n",
      "\t Train loss :  2.850788223440759e-05 & Train accuracy :  82.1842989756722\n",
      "\t Validation loss :  0.0002554650418460369 & Validation accuracy :  63.99238782051282\n",
      "Epoch  6\n",
      "\t Train loss :  1.9079532648902386e-05 & Train accuracy :  85.72943341869397\n",
      "\t Validation loss :  0.0002624370972625911 & Validation accuracy :  64.78365384615384\n",
      "Epoch  7\n",
      "\t Train loss :  1.7062111510313116e-05 & Train accuracy :  88.74639884763124\n",
      "\t Validation loss :  0.00026733236154541373 & Validation accuracy :  65.08413461538461\n",
      "Epoch  8\n",
      "\t Train loss :  1.3912080248701386e-05 & Train accuracy :  90.2708866837388\n",
      "\t Validation loss :  0.00025395338889211416 & Validation accuracy :  64.5332532051282\n",
      "Epoch  9\n",
      "\t Train loss :  7.992203791218344e-06 & Train accuracy :  92.6296414852753\n",
      "\t Validation loss :  0.00029165262822061777 & Validation accuracy :  64.71354166666666\n",
      "Finished Training in: 11686.926291942596 seconds with mean epoch duration: 1168.6926291942596  seconds\n"
     ]
    }
   ],
   "source": [
    "results_optim = train_optim(train_loader_optim, val_loader_optim, model_optim, optimizer_optim, criterion_optim, args_optim)"
   ]
  },
  {
   "cell_type": "markdown",
   "metadata": {
    "id": "MqMatOlMhO8X"
   },
   "source": [
    "## Classification performances comparison\n",
    "\n",
    "> Take a look at\n",
    ">- the loss and accuracy evolution\n",
    ">- the difference in timings between the two runs"
   ]
  },
  {
   "cell_type": "code",
   "execution_count": 20,
   "metadata": {
    "id": "_ICf-vY3NOVU"
   },
   "outputs": [
    {
     "name": "stdout",
     "output_type": "stream",
     "text": [
      "Duration for default setup training: 6704.363262891769\n",
      "Duration for optim setup training: 11686.926291942596\n"
     ]
    }
   ],
   "source": [
    "print(\"Duration for default setup training:\", results_default[\"duration\"])\n",
    "print(\"Duration for optim setup training:\", results_optim[\"duration\"])"
   ]
  },
  {
   "cell_type": "code",
   "execution_count": 21,
   "metadata": {
    "id": "upDC963kNOVV"
   },
   "outputs": [
    {
     "data": {
      "image/png": "[encoded data removed]",
      "text/plain": [
       "<Figure size 1000x1000 with 2 Axes>"
      ]
     },
     "metadata": {},
     "output_type": "display_data"
    }
   ],
   "source": [
    "compare_trainings(results_default, results_optim)"
   ]
  },
  {
   "cell_type": "markdown",
   "metadata": {
    "id": "weOLNx69hQh6"
   },
   "source": [
    "## Tensorboard\n",
    "Below we added a profiler and a logger for tensorboard. If you want to do it yourself in future codes, you can take example on the following documentations::\n",
    "- Pytorch : https://pytorch.org/tutorials/recipes/recipes/profiler_recipe.html\n",
    "- IDRIS : http://www.idris.fr/jean-zay/pre-post/jean-zay-tensorboard.html\n",
    "\n",
    "> Try to add another metric to the logger, for example the validation loss at each epoch."
   ]
  },
  {
   "cell_type": "code",
   "execution_count": 22,
   "metadata": {
    "id": "0qRmXet6NOVW"
   },
   "outputs": [],
   "source": [
    "def train_default_tensorboard(train_loader, val_loader, model, optimizer, criterion, args, exp_name):\n",
    "    log_dir = \"./logs/\"+exp_name\n",
    "    writer = SummaryWriter(log_dir)\n",
    "    \n",
    "    train_losses = []\n",
    "    train_accuracies = []\n",
    "    val_losses = []\n",
    "    val_accuracies = []\n",
    "    time_start = time.time()\n",
    "    with torch.profiler.profile(\n",
    "        schedule=torch.profiler.schedule(wait=1, warmup=1, active=3, repeat=2),\n",
    "        on_trace_ready=torch.profiler.tensorboard_trace_handler(log_dir),\n",
    "        record_shapes=True,\n",
    "        profile_memory=True,\n",
    "        with_stack=True\n",
    "    ) as prof:\n",
    "        for epoch in range(args['epochs']):\n",
    "            print(\"Epoch \", epoch)\n",
    "            for i, (images, labels) in enumerate(train_loader):\n",
    "                # distribution of images and labels to all GPUs\n",
    "                images = images.to(args['device'], non_blocking=True)\n",
    "                labels = labels.to(args['device'], non_blocking=True)\n",
    "\n",
    "                # Zero the parameter gradients\n",
    "                optimizer.zero_grad()\n",
    "\n",
    "                # Forward pass\n",
    "                outputs = model(images)\n",
    "                loss = criterion(outputs, labels)\n",
    "                \n",
    "                # Log a scalar (loss)\n",
    "                writer.add_scalar(\"Loss/train\", loss, i+epoch*len(train_loader))\n",
    "                \n",
    "                # Backward pass\n",
    "                loss.backward()\n",
    "\n",
    "                # Optimize\n",
    "                optimizer.step()\n",
    "                \n",
    "                # Indicate to profiler when a step is over\n",
    "                prof.step()\n",
    "                \n",
    "            # Evaluate at the end of the epoch on the train set\n",
    "            train_loss, train_accuracy = evaluate(train_loader, model, criterion, args)\n",
    "            print(\"\\t Train loss : \", train_loss, \"& Train accuracy : \", train_accuracy)\n",
    "            train_losses.append(train_loss)\n",
    "            train_accuracies.append(train_accuracy)                \n",
    "\n",
    "            # Evaluate at the end of the epoch on the val set\n",
    "            val_loss, val_accuracy = evaluate(val_loader, model, criterion, args)\n",
    "            print(\"\\t Validation loss : \", val_loss, \"& Validation accuracy : \", val_accuracy)\n",
    "            val_losses.append(val_loss)\n",
    "            val_accuracies.append(val_accuracy)\n",
    "    duration = time.time() - time_start\n",
    "    print('Finished Training in:', duration, 'seconds with mean epoch duration:', duration/args['epochs'], ' seconds')\n",
    "    results = {'model':model,\n",
    "               'train_losses': train_losses,\n",
    "               'train_accuracies': train_accuracies,\n",
    "               'val_losses': val_losses,\n",
    "               'val_accuracies': val_accuracies,\n",
    "               'duration':duration}\n",
    "    return results"
   ]
  },
  {
   "cell_type": "code",
   "execution_count": 25,
   "metadata": {
    "id": "mAPz5qdYNOVX"
   },
   "outputs": [
    {
     "name": "stdout",
     "output_type": "stream",
     "text": [
      "Epoch  0\n"
     ]
    },
    {
     "name": "stderr",
     "output_type": "stream",
     "text": [
      "[W collection.cpp:436] Warning: runpy.py(197): _run_module_as_main (function operator())\n",
      "[W collection.cpp:436] Warning: runpy.py(87): _run_code (function operator())\n",
      "[W collection.cpp:436] Warning: ipykernel_launcher.py(17): <module> (function operator())\n",
      "[W collection.cpp:436] Warning: traitlets/config/application.py(1043): launch_instance (function operator())\n",
      "[W collection.cpp:436] Warning: ipykernel/kernelapp.py(725): start (function operator())\n",
      "[W collection.cpp:436] Warning: tornado/platform/asyncio.py(215): start (function operator())\n",
      "[W collection.cpp:436] Warning: asyncio/base_events.py(601): run_forever (function operator())\n",
      "[W collection.cpp:436] Warning: asyncio/base_events.py(1905): _run_once (function operator())\n",
      "[W collection.cpp:436] Warning: asyncio/events.py(80): _run (function operator())\n",
      "[W collection.cpp:436] Warning: ipykernel/kernelbase.py(513): dispatch_queue (function operator())\n",
      "[W collection.cpp:436] Warning: ipykernel/kernelbase.py(502): process_one (function operator())\n",
      "[W collection.cpp:436] Warning: ipykernel/kernelbase.py(409): dispatch_shell (function operator())\n",
      "[W collection.cpp:436] Warning: ipykernel/kernelbase.py(729): execute_request (function operator())\n",
      "[W collection.cpp:436] Warning: ipykernel/ipkernel.py(422): do_execute (function operator())\n",
      "[W collection.cpp:436] Warning: ipykernel/zmqshell.py(540): run_cell (function operator())\n",
      "[W collection.cpp:436] Warning: IPython/core/interactiveshell.py(2961): run_cell (function operator())\n",
      "[W collection.cpp:436] Warning: IPython/core/interactiveshell.py(3016): _run_cell (function operator())\n",
      "[W collection.cpp:436] Warning: IPython/core/async_helpers.py(129): _pseudo_sync_runner (function operator())\n",
      "[W collection.cpp:436] Warning: IPython/core/interactiveshell.py(3221): run_cell_async (function operator())\n",
      "[W collection.cpp:436] Warning: IPython/core/interactiveshell.py(3400): run_ast_nodes (function operator())\n",
      "[W collection.cpp:436] Warning: IPython/core/interactiveshell.py(3460): run_code (function operator())\n",
      "[W collection.cpp:436] Warning: /var/folders/rk/cnrspsj13_3cgmh8p4m_mxww0000gp/T/ipykernel_9989/2241826171.py(2): <module> (function operator())\n",
      "[W collection.cpp:436] Warning: /var/folders/rk/cnrspsj13_3cgmh8p4m_mxww0000gp/T/ipykernel_9989/2006798620.py(41): train_default_tensorboard (function operator())\n",
      "[W collection.cpp:436] Warning: torch/profiler/profiler.py(489): step (function operator())\n",
      "[W collection.cpp:436] Warning: torch/profiler/profiler.py(511): _transit_action (function operator())\n",
      "[W collection.cpp:436] Warning: torch/profiler/profiler.py(117): stop_trace (function operator())\n",
      "[W collection.cpp:436] Warning: torch/autograd/profiler.py(223): __exit__ (function operator())\n",
      "[W collection.cpp:436] Warning: <built-in method _disable_profiler of PyCapsule object at 0x13b6a23f0> (function operator())\n",
      "[W collection.cpp:436] Warning: runpy.py(197): _run_module_as_main (function operator())\n",
      "[W collection.cpp:436] Warning: runpy.py(87): _run_code (function operator())\n",
      "[W collection.cpp:436] Warning: ipykernel_launcher.py(17): <module> (function operator())\n",
      "[W collection.cpp:436] Warning: traitlets/config/application.py(1043): launch_instance (function operator())\n",
      "[W collection.cpp:436] Warning: ipykernel/kernelapp.py(725): start (function operator())\n",
      "[W collection.cpp:436] Warning: tornado/platform/asyncio.py(215): start (function operator())\n",
      "[W collection.cpp:436] Warning: asyncio/base_events.py(601): run_forever (function operator())\n",
      "[W collection.cpp:436] Warning: asyncio/base_events.py(1905): _run_once (function operator())\n",
      "[W collection.cpp:436] Warning: asyncio/events.py(80): _run (function operator())\n",
      "[W collection.cpp:436] Warning: ipykernel/kernelbase.py(513): dispatch_queue (function operator())\n",
      "[W collection.cpp:436] Warning: ipykernel/kernelbase.py(502): process_one (function operator())\n",
      "[W collection.cpp:436] Warning: ipykernel/kernelbase.py(409): dispatch_shell (function operator())\n",
      "[W collection.cpp:436] Warning: ipykernel/kernelbase.py(729): execute_request (function operator())\n",
      "[W collection.cpp:436] Warning: ipykernel/ipkernel.py(422): do_execute (function operator())\n",
      "[W collection.cpp:436] Warning: ipykernel/zmqshell.py(540): run_cell (function operator())\n",
      "[W collection.cpp:436] Warning: IPython/core/interactiveshell.py(2961): run_cell (function operator())\n",
      "[W collection.cpp:436] Warning: IPython/core/interactiveshell.py(3016): _run_cell (function operator())\n",
      "[W collection.cpp:436] Warning: IPython/core/async_helpers.py(129): _pseudo_sync_runner (function operator())\n",
      "[W collection.cpp:436] Warning: IPython/core/interactiveshell.py(3221): run_cell_async (function operator())\n",
      "[W collection.cpp:436] Warning: IPython/core/interactiveshell.py(3400): run_ast_nodes (function operator())\n",
      "[W collection.cpp:436] Warning: IPython/core/interactiveshell.py(3460): run_code (function operator())\n",
      "[W collection.cpp:436] Warning: /var/folders/rk/cnrspsj13_3cgmh8p4m_mxww0000gp/T/ipykernel_9989/2241826171.py(2): <module> (function operator())\n",
      "[W collection.cpp:436] Warning: /var/folders/rk/cnrspsj13_3cgmh8p4m_mxww0000gp/T/ipykernel_9989/2006798620.py(41): train_default_tensorboard (function operator())\n",
      "[W collection.cpp:436] Warning: torch/profiler/profiler.py(489): step (function operator())\n",
      "[W collection.cpp:436] Warning: torch/profiler/profiler.py(511): _transit_action (function operator())\n",
      "[W collection.cpp:436] Warning: torch/profiler/profiler.py(117): stop_trace (function operator())\n",
      "[W collection.cpp:436] Warning: torch/autograd/profiler.py(223): __exit__ (function operator())\n",
      "[W collection.cpp:436] Warning: <built-in method _disable_profiler of PyCapsule object at 0x13b6a23f0> (function operator())\n"
     ]
    },
    {
     "name": "stdout",
     "output_type": "stream",
     "text": [
      "\t Train loss :  2.2615661237068707e-06 & Train accuracy :  95.07642445582587\n",
      "\t Validation loss :  0.0003770703333429992 & Validation accuracy :  65.87540064102564\n",
      "Finished Training in: 436.43792605400085 seconds with mean epoch duration: 436.43792605400085  seconds\n"
     ]
    }
   ],
   "source": [
    "args[\"epochs\"] = 1\n",
    "_ = train_default_tensorboard(train_loader, val_loader, model, optimizer, criterion, args, \"default_perf\")"
   ]
  },
  {
   "cell_type": "code",
   "execution_count": 26,
   "metadata": {
    "id": "VlUFsWoVNOVa",
    "tags": []
   },
   "outputs": [
    {
     "name": "stdout",
     "output_type": "stream",
     "text": [
      "The tensorboard extension is already loaded. To reload it, use:\n",
      "  %reload_ext tensorboard\n"
     ]
    },
    {
     "data": {
      "text/plain": [
       "Reusing TensorBoard on port 6006 (pid 60313), started 0:28:25 ago. (Use '!kill 60313' to kill it.)"
      ]
     },
     "metadata": {},
     "output_type": "display_data"
    },
    {
     "data": {
      "text/html": [
       "\n",
       "      <iframe id=\"tensorboard-frame-c4da537c1651ddae\" width=\"100%\" height=\"800\" frameborder=\"0\">\n",
       "      </iframe>\n",
       "      <script>\n",
       "        (function() {\n",
       "          const frame = document.getElementById(\"tensorboard-frame-c4da537c1651ddae\");\n",
       "          const url = new URL(\"/\", window.location);\n",
       "          const port = 6006;\n",
       "          if (port) {\n",
       "            url.port = port;\n",
       "          }\n",
       "          frame.src = url;\n",
       "        })();\n",
       "      </script>\n",
       "    "
      ],
      "text/plain": [
       "<IPython.core.display.HTML object>"
      ]
     },
     "metadata": {},
     "output_type": "display_data"
    }
   ],
   "source": [
    "# Load the TensorBoard notebook extension\n",
    "#!pip install torch_tb_profiler\n",
    "%load_ext tensorboard\n",
    "%tensorboard --logdir logs"
   ]
  },
  {
   "cell_type": "code",
   "execution_count": null,
   "metadata": {},
   "outputs": [],
   "source": []
  }
 ],
 "metadata": {
  "accelerator": "GPU",
  "colab": {
   "provenance": []
  },
  "gpuClass": "standard",
  "kernelspec": {
   "display_name": "fidle2023",
   "language": "python",
   "name": "fidle2023"
  },
  "language_info": {
   "codemirror_mode": {
    "name": "ipython",
    "version": 3
   },
   "file_extension": ".py",
   "mimetype": "text/x-python",
   "name": "python",
   "nbconvert_exporter": "python",
   "pygments_lexer": "ipython3",
   "version": "3.9.16"
  }
 },
 "nbformat": 4,
 "nbformat_minor": 4
}
